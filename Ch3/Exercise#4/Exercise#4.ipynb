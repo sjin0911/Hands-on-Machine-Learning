{
 "cells": [
  {
   "cell_type": "markdown",
   "id": "52cb9a3b",
   "metadata": {},
   "source": [
    "# 데이터 셋 내려받기"
   ]
  },
  {
   "cell_type": "code",
   "execution_count": 3,
   "id": "7e57a089",
   "metadata": {},
   "outputs": [],
   "source": [
    "import tarfile\n",
    "from pathlib import Path\n",
    "import urllib.request\n",
    "\n",
    "def fetch_spam_data():\n",
    "    spam_root=\"http://spamassassin.apache.org/old/publiccorpus/\"\n",
    "    ham_url=spam_root+\"20030228_easy_ham.tar.bz2\"\n",
    "    spam_url=spam_root+\"20030228_spam.tar.bz2\"\n",
    "    \n",
    "    spam_path=Path()/\"datasets\"/\"spam\"\n",
    "    spam_path.mkdir(parents=True, exist_ok=True)\n",
    "    for dir_name, tar_name, url in ((\"easy_ham\",\"ham\",ham_url),\n",
    "                                   (\"spam\",\"spam\",spam_url)):\n",
    "        if not (spam_path/dir_name).is_dir():\n",
    "            path=(spam_path/tar_name).with_suffix(\".tar.bz2\")\n",
    "            print(\"Downloading\",path)\n",
    "            urllib.request.urlretrieve(url, path)\n",
    "            tar_bz2_file=tarfile.open(path)\n",
    "            tar_bz2_file.extractall(path=spam_path)\n",
    "            tar_bz2_file.close()\n",
    "    return [spam_path/dir_name for dir_name in (\"easy_ham\",\"spam\")]"
   ]
  },
  {
   "cell_type": "code",
   "execution_count": 4,
   "id": "9ced6394",
   "metadata": {},
   "outputs": [],
   "source": [
    "ham_dir, spam_dir = fetch_spam_data()"
   ]
  },
  {
   "cell_type": "code",
   "execution_count": 5,
   "id": "22db51b9",
   "metadata": {},
   "outputs": [],
   "source": [
    "#모든 이메일 읽어들이기\n",
    "ham_filenames=[f for f in sorted(ham_dir.iterdir()) if len(f.name)>20]\n",
    "spam_filenames=[f for f in sorted(spam_dir.iterdir()) if len(f.name)>20]"
   ]
  },
  {
   "cell_type": "code",
   "execution_count": 6,
   "id": "63dfaa48",
   "metadata": {},
   "outputs": [
    {
     "data": {
      "text/plain": [
       "2500"
      ]
     },
     "execution_count": 6,
     "metadata": {},
     "output_type": "execute_result"
    }
   ],
   "source": [
    "len(ham_filenames)"
   ]
  },
  {
   "cell_type": "code",
   "execution_count": 7,
   "id": "169297ca",
   "metadata": {},
   "outputs": [
    {
     "data": {
      "text/plain": [
       "500"
      ]
     },
     "execution_count": 7,
     "metadata": {},
     "output_type": "execute_result"
    }
   ],
   "source": [
    "len(spam_filenames)"
   ]
  },
  {
   "cell_type": "code",
   "execution_count": 8,
   "id": "4715b0a2",
   "metadata": {},
   "outputs": [
    {
     "data": {
      "text/plain": [
       "[PosixPath('datasets/spam/easy_ham/00001.7c53336b37003a9286aba55d2945844c'),\n",
       " PosixPath('datasets/spam/easy_ham/00002.9c4069e25e1ef370c078db7ee85ff9ac'),\n",
       " PosixPath('datasets/spam/easy_ham/00003.860e3c3cee1b42ead714c5c874fe25f7'),\n",
       " PosixPath('datasets/spam/easy_ham/00004.864220c5b6930b209cc287c361c99af1'),\n",
       " PosixPath('datasets/spam/easy_ham/00005.bf27cdeaf0b8c4647ecd61b1d09da613')]"
      ]
     },
     "execution_count": 8,
     "metadata": {},
     "output_type": "execute_result"
    }
   ],
   "source": [
    "#list에 PosixPath가 담겨있는 형태\n",
    "ham_filenames[:5]"
   ]
  },
  {
   "cell_type": "code",
   "execution_count": 9,
   "id": "66e07321",
   "metadata": {},
   "outputs": [],
   "source": [
    "#모듈을 사용해 이메일 파싱하기\n",
    "import email\n",
    "import email.policy\n",
    "\n",
    "def load_email(filepath):\n",
    "    with open(filepath, \"rb\") as f:\n",
    "        return email.parser.BytesParser(policy=email.policy.default).parse(f)"
   ]
  },
  {
   "cell_type": "code",
   "execution_count": 10,
   "id": "94b512ed",
   "metadata": {},
   "outputs": [],
   "source": [
    "ham_emails=[load_email(filepath) for filepath in ham_filenames]\n",
    "spam_emails=[load_email(filepath) for filepath in spam_filenames]"
   ]
  },
  {
   "cell_type": "code",
   "execution_count": 11,
   "id": "54129f02",
   "metadata": {},
   "outputs": [
    {
     "data": {
      "text/plain": [
       "[<email.message.EmailMessage at 0x7f95c80f0ca0>,\n",
       " <email.message.EmailMessage at 0x7f95c80f2280>,\n",
       " <email.message.EmailMessage at 0x7f95c80f2a00>,\n",
       " <email.message.EmailMessage at 0x7f95c80f2d60>,\n",
       " <email.message.EmailMessage at 0x7f95c80f2700>]"
      ]
     },
     "execution_count": 11,
     "metadata": {},
     "output_type": "execute_result"
    }
   ],
   "source": [
    "#list에 각 이메일이 저장되어 있음\n",
    "ham_emails[:5]"
   ]
  },
  {
   "cell_type": "code",
   "execution_count": 12,
   "id": "33471bf4",
   "metadata": {},
   "outputs": [
    {
     "name": "stdout",
     "output_type": "stream",
     "text": [
      "Martin A posted:\n",
      "Tassos Papadopoulos, the Greek sculptor behind the plan, judged that the\n",
      " limestone of Mount Kerdylio, 70 miles east of Salonika and not far from the\n",
      " Mount Athos monastic community, was ideal for the patriotic sculpture. \n",
      " \n",
      " As well as Alexander's granite features, 240 ft high and 170 ft wide, a\n",
      " museum, a restored amphitheatre and car park for admiring crowds are\n",
      "planned\n",
      "---------------------\n",
      "So is this mountain limestone or granite?\n",
      "If it's limestone, it'll weather pretty fast.\n",
      "\n",
      "------------------------ Yahoo! Groups Sponsor ---------------------~-->\n",
      "4 DVDs Free +s&p Join Now\n",
      "http://us.click.yahoo.com/pt6YBB/NXiEAA/mG3HAA/7gSolB/TM\n",
      "---------------------------------------------------------------------~->\n",
      "\n",
      "To unsubscribe from this group, send an email to:\n",
      "forteana-unsubscribe@egroups.com\n",
      "\n",
      " \n",
      "\n",
      "Your use of Yahoo! Groups is subject to http://docs.yahoo.com/info/terms/\n"
     ]
    }
   ],
   "source": [
    "#email 내용 오픈을 위해선 get_contnt 함수 사용 필수\n",
    "print(ham_emails[1].get_content().strip())"
   ]
  },
  {
   "cell_type": "markdown",
   "id": "496e0212",
   "metadata": {},
   "source": [
    "어떤 이메일은 이미지나 첨부파일을 가진 멀티파트로 구성"
   ]
  },
  {
   "cell_type": "code",
   "execution_count": 13,
   "id": "2cf342e8",
   "metadata": {},
   "outputs": [],
   "source": [
    "def get_email_structure(email):\n",
    "    if isinstance(email, str):\n",
    "        return email\n",
    "    payload=email.get_payload()\n",
    "    if isinstance(payload, list):\n",
    "        multipart=\",\".join([get_email_structure(sub_email)\n",
    "                           for sub_email in payload])\n",
    "        return f\"multipart({multipart})\"\n",
    "    else:\n",
    "        return email.get_content_type()"
   ]
  },
  {
   "cell_type": "code",
   "execution_count": 14,
   "id": "de5bdbae",
   "metadata": {},
   "outputs": [],
   "source": [
    "from collections import Counter\n",
    "\n",
    "def structures_counter(emails):\n",
    "    structures=Counter()\n",
    "    for email in emails:\n",
    "        structure=get_email_structure(email)\n",
    "        structures[structure]+=1\n",
    "    return structures"
   ]
  },
  {
   "cell_type": "code",
   "execution_count": 15,
   "id": "a350e8aa",
   "metadata": {},
   "outputs": [
    {
     "data": {
      "text/plain": [
       "[('text/plain', 2408),\n",
       " ('multipart(text/plain,application/pgp-signature)', 66),\n",
       " ('multipart(text/plain,text/html)', 8),\n",
       " ('multipart(text/plain,text/plain)', 4),\n",
       " ('multipart(text/plain)', 3),\n",
       " ('multipart(text/plain,application/octet-stream)', 2),\n",
       " ('multipart(text/plain,text/enriched)', 1),\n",
       " ('multipart(text/plain,application/ms-tnef,text/plain)', 1),\n",
       " ('multipart(multipart(text/plain,text/plain,text/plain),application/pgp-signature)',\n",
       "  1),\n",
       " ('multipart(text/plain,video/mng)', 1),\n",
       " ('multipart(text/plain,multipart(text/plain))', 1),\n",
       " ('multipart(text/plain,application/x-pkcs7-signature)', 1),\n",
       " ('multipart(text/plain,multipart(text/plain,text/plain),text/rfc822-headers)',\n",
       "  1),\n",
       " ('multipart(text/plain,multipart(text/plain,text/plain),multipart(multipart(text/plain,application/x-pkcs7-signature)))',\n",
       "  1),\n",
       " ('multipart(text/plain,application/x-java-applet)', 1)]"
      ]
     },
     "execution_count": 15,
     "metadata": {},
     "output_type": "execute_result"
    }
   ],
   "source": [
    "structures_counter(ham_emails).most_common()"
   ]
  },
  {
   "cell_type": "code",
   "execution_count": 16,
   "id": "0061164d",
   "metadata": {},
   "outputs": [
    {
     "data": {
      "text/plain": [
       "[('text/plain', 218),\n",
       " ('text/html', 183),\n",
       " ('multipart(text/plain,text/html)', 45),\n",
       " ('multipart(text/html)', 20),\n",
       " ('multipart(text/plain)', 19),\n",
       " ('multipart(multipart(text/html))', 5),\n",
       " ('multipart(text/plain,image/jpeg)', 3),\n",
       " ('multipart(text/html,application/octet-stream)', 2),\n",
       " ('multipart(text/plain,application/octet-stream)', 1),\n",
       " ('multipart(text/html,text/plain)', 1),\n",
       " ('multipart(multipart(text/html),application/octet-stream,image/jpeg)', 1),\n",
       " ('multipart(multipart(text/plain,text/html),image/gif)', 1),\n",
       " ('multipart/alternative', 1)]"
      ]
     },
     "execution_count": 16,
     "metadata": {},
     "output_type": "execute_result"
    }
   ],
   "source": [
    "structures_counter(spam_emails).most_common()"
   ]
  },
  {
   "cell_type": "markdown",
   "id": "71f8c02f",
   "metadata": {},
   "source": [
    "각각 구성 내용을 살펴보자면 햄 이메일들은 대부분 plain text이고 스팸 메일들은 html이 차지하는 비중이 큼\n",
    "\n",
    "햄 이메일들은 서명을 포함하는 경우가 종종 있음"
   ]
  },
  {
   "cell_type": "code",
   "execution_count": 17,
   "id": "d5f7cbaf",
   "metadata": {},
   "outputs": [
    {
     "name": "stdout",
     "output_type": "stream",
     "text": [
      "Return-Path : <12a1mailbot1@web.de>\n",
      "Delivered-To : zzzz@localhost.spamassassin.taint.org\n",
      "Received : from localhost (localhost [127.0.0.1])\tby phobos.labs.spamassassin.taint.org (Postfix) with ESMTP id 136B943C32\tfor <zzzz@localhost>; Thu, 22 Aug 2002 08:17:21 -0400 (EDT)\n",
      "Received : from mail.webnote.net [193.120.211.219]\tby localhost with POP3 (fetchmail-5.9.0)\tfor zzzz@localhost (single-drop); Thu, 22 Aug 2002 13:17:21 +0100 (IST)\n",
      "Received : from dd_it7 ([210.97.77.167])\tby webnote.net (8.9.3/8.9.3) with ESMTP id NAA04623\tfor <zzzz@spamassassin.taint.org>; Thu, 22 Aug 2002 13:09:41 +0100\n",
      "From : 12a1mailbot1@web.de\n",
      "Received : from r-smtp.korea.com - 203.122.2.197 by dd_it7  with Microsoft SMTPSVC(5.5.1775.675.6);\t Sat, 24 Aug 2002 09:42:10 +0900\n",
      "To : dcek1a1@netsgo.com\n",
      "Subject : Life Insurance - Why Pay More?\n",
      "Date : Wed, 21 Aug 2002 20:31:57 -1600\n",
      "MIME-Version : 1.0\n",
      "Message-ID : <0103c1042001882DD_IT7@dd_it7>\n",
      "Content-Type : text/html; charset=\"iso-8859-1\"\n",
      "Content-Transfer-Encoding : quoted-printable\n"
     ]
    }
   ],
   "source": [
    "#이메일 헤더 살펴보기\n",
    "for header, value in spam_emails[0].items():\n",
    "    print(header, \":\", value)"
   ]
  },
  {
   "cell_type": "code",
   "execution_count": 18,
   "id": "496695e0",
   "metadata": {
    "scrolled": true
   },
   "outputs": [
    {
     "data": {
      "text/plain": [
       "'Life Insurance - Why Pay More?'"
      ]
     },
     "execution_count": 18,
     "metadata": {},
     "output_type": "execute_result"
    }
   ],
   "source": [
    "spam_emails[0][\"Subject\"]"
   ]
  },
  {
   "cell_type": "markdown",
   "id": "27e203a2",
   "metadata": {},
   "source": [
    "# 훈련 세트와 테스트 세트로 분리하기"
   ]
  },
  {
   "cell_type": "code",
   "execution_count": 19,
   "id": "e0d662a8",
   "metadata": {},
   "outputs": [
    {
     "name": "stderr",
     "output_type": "stream",
     "text": [
      "/Users/yoonsjin/opt/anaconda3/lib/python3.9/site-packages/pandas/core/computation/expressions.py:21: UserWarning: Pandas requires version '2.8.4' or newer of 'numexpr' (version '2.7.3' currently installed).\n",
      "  from pandas.core.computation.check import NUMEXPR_INSTALLED\n",
      "/Users/yoonsjin/opt/anaconda3/lib/python3.9/site-packages/pandas/core/arrays/masked.py:60: UserWarning: Pandas requires version '1.3.6' or newer of 'bottleneck' (version '1.3.2' currently installed).\n",
      "  from pandas.core import (\n"
     ]
    }
   ],
   "source": [
    "import pandas as pd\n",
    "import numpy as np\n",
    "\n",
    "data_set=np.array(ham_emails+spam_emails,dtype=object)\n",
    "data_label=np.array([0]*len(ham_emails)+[1]*len(spam_emails))"
   ]
  },
  {
   "cell_type": "code",
   "execution_count": 20,
   "id": "9794fb0f",
   "metadata": {},
   "outputs": [],
   "source": [
    "from sklearn.model_selection import train_test_split\n",
    "\n",
    "X_train, X_test, y_train, y_test=train_test_split(data_set, data_label,test_size=0.1,random_state=42)"
   ]
  },
  {
   "cell_type": "markdown",
   "id": "706d4c98",
   "metadata": {},
   "source": [
    "전처리 함수 작성: HTML을 일반 텍스트로 변환하는 함수 \n",
    "- head 섹션을 삭제하고 모든 a 태그를 HYPERLINK 문자로 바꿈\n",
    "- 모든 HTML 태그를 제거하고 텍스트만 남김\n",
    "- 보기 편하게 여러개의 개행 문자를 하나로 만들고 html 엔티티를 복원"
   ]
  },
  {
   "cell_type": "code",
   "execution_count": 21,
   "id": "ba09d08e",
   "metadata": {},
   "outputs": [],
   "source": [
    "import re\n",
    "from html import unescape\n",
    "\n",
    "def html_to_plain_text(html):\n",
    "    text=re.sub('<head.*?>.*</head>','', html, flags=re.M|re.S|re.I)\n",
    "    text=re.sub('<a\\s.*?>','HYPERLINK', text, flags=re.M|re.S|re.I)\n",
    "    text=re.sub('<.*?>','', text, flags=re.M|re.S)\n",
    "    text=re.sub(r'(\\s*\\n)+','\\n', text, flags=re.M|re.S)\n",
    "    return unescape(text)"
   ]
  },
  {
   "cell_type": "code",
   "execution_count": 22,
   "id": "05a57cbe",
   "metadata": {},
   "outputs": [],
   "source": [
    "html_spam_emails=[email for email in X_train[y_train==1]\n",
    "                 if get_email_structure(email)==\"text/html\"]"
   ]
  },
  {
   "cell_type": "code",
   "execution_count": 23,
   "id": "6ca0c124",
   "metadata": {},
   "outputs": [
    {
     "name": "stdout",
     "output_type": "stream",
     "text": [
      "<!DOCTYPE HTML PUBLIC \"-//W3C//DTD HTML 4.0 Transitional//EN\">\n",
      "<HTML><HEAD>\n",
      "<META http-equiv=Content-Type content=\"text/html; charset=windows-1252\">\n",
      "<META content=\"MSHTML 6.00.2716.2200\" name=GENERATOR></HEAD>\n",
      "<BODY>\n",
      "<CENTER>\n",
      "<TABLE borderColor=black cellSpacing=0 cellPadding=10 border=1>\n",
      "  <TBODY>\n",
      "  <TR>\n",
      "    <TD><FONT size=2><A\n",
      "      href=\"http://theadmanager.com/server/c.asp?ad_key=BBBIJJJNSUMV&ext=1\"\n",
      "      target=\"\"><IMG height=71 alt=\"\"\n",
      "      src=\"http://www.findanopportunity.com/fgoffer/htmlemail2/top_01.gif\"\n",
      "      width=549 border=0><BR><IMG height=73 alt=\"\"\n",
      "      src=\"http://www.findanopportunity.com/fgoffer/htmlemail2/top_02.gif\"\n",
      "      width=549 border=0><BR><IMG height=115 alt=\"\"\n",
      "      src=\"http://www.findanopportunity.com/fgoffer/htmlemail2/collage_01.jpg\"\n",
      "      width=188 border=0><IMG height=115 alt=\"\"\n",
      "      src=\"http://www.findanopportunity.com/fgoffer/htmlemail2/collage_02.jpg\"\n",
      "      width=171 border=0><IMG height=115 alt=\"\"\n",
      "      src=\"http://www.findanopportunity.com/fgof ...\n"
     ]
    }
   ],
   "source": [
    "sample_html_spam=html_spam_emails[5]\n",
    "print(sample_html_spam.get_content().strip()[:1000],\"...\")"
   ]
  },
  {
   "cell_type": "code",
   "execution_count": 24,
   "id": "90c6007d",
   "metadata": {},
   "outputs": [
    {
     "name": "stdout",
     "output_type": "stream",
     "text": [
      "\n",
      "    HYPERLINK\n",
      "      You've been hand selected to access this exclusive\n",
      "      work-at-home information for HYPERLINKFREE!\n",
      "      HYPERLINK\n",
      "You are receiving this mailing because you are a\n",
      "member of SendGreatOffers.com and subscribed as:JM@NETNOTEINC.COM\n",
      "To unsubscribe HYPERLINK\n",
      "Click Here\n",
      "(http://admanmail.com/subscription.asp?em=JM@NETNOTEINC.COM&l=SGO)\n",
      "or reply to this email with REMOVE in the subject line - you must\n",
      "also include the body of this message to be unsubscribed. Any correspondence about\n",
      "the products/services should be directed to\n",
      "the company in the ad.\n",
      "%EM%JM@NETNOTEINC.COM%/EM%\n",
      " ...\n"
     ]
    }
   ],
   "source": [
    "print(html_to_plain_text(sample_html_spam.get_content())[:1000],\"...\")"
   ]
  },
  {
   "cell_type": "code",
   "execution_count": 25,
   "id": "5a339636",
   "metadata": {},
   "outputs": [],
   "source": [
    "def email_to_text(email):\n",
    "    html=None\n",
    "    \n",
    "    #walk: 메세지 객체 트리의 모든 파트와 서브 파트를 이터레이트하는데 사용되는 범용 제너레이터\n",
    "    for part in email.walk(): \n",
    "        ctype=part.get_content_type()\n",
    "        if not ctype in (\"text/plain\",\"text/html\"):\n",
    "            continue\n",
    "        try:\n",
    "            content=part.get_contnet()\n",
    "        except: #encoding issue 발생시\n",
    "            content=str(part.get_payload())\n",
    "        if ctype==\"text/plain\":\n",
    "            return content\n",
    "        else:\n",
    "            html=content\n",
    "    if html:\n",
    "        return html_to_plain_text(html)"
   ]
  },
  {
   "cell_type": "code",
   "execution_count": 26,
   "id": "6d3c4d21",
   "metadata": {},
   "outputs": [
    {
     "name": "stdout",
     "output_type": "stream",
     "text": [
      "\n",
      "    HYPERLINK\n",
      "      You've been hand selected to access this exclusive\n",
      "      work-at-home informati ...\n"
     ]
    }
   ],
   "source": [
    "print(email_to_text(sample_html_spam)[:100],\"...\")"
   ]
  },
  {
   "cell_type": "code",
   "execution_count": 27,
   "id": "49858632",
   "metadata": {
    "scrolled": true
   },
   "outputs": [
    {
     "name": "stdout",
     "output_type": "stream",
     "text": [
      "Computations => comput\n",
      "Computation => comput\n",
      "Computing => comput\n",
      "Computed => comput\n",
      "Compute => comput\n",
      "Compulsive => compuls\n"
     ]
    }
   ],
   "source": [
    "#자연어 처리 툴킷 NLTK를 이용해 어간 추출\n",
    "import nltk\n",
    "\n",
    "stemmer=nltk.PorterStemmer()\n",
    "for word in (\"Computations\",\"Computation\",\"Computing\",\"Computed\",\"Compute\",\n",
    "            \"Compulsive\"):\n",
    "    print(word, \"=>\", stemmer.stem(word))"
   ]
  },
  {
   "cell_type": "code",
   "execution_count": 28,
   "id": "4dfe8a06",
   "metadata": {},
   "outputs": [
    {
     "name": "stdout",
     "output_type": "stream",
     "text": [
      "Requirement already satisfied: pip in /Users/yoonsjin/opt/anaconda3/lib/python3.9/site-packages (24.1.2)\n",
      "\u001b[33mWARNING: Error parsing dependencies of pyodbc: Invalid version: '4.0.0-unsupported'\u001b[0m\u001b[33m\n",
      "\u001b[0mNote: you may need to restart the kernel to use updated packages.\n"
     ]
    }
   ],
   "source": [
    "%pip install --upgrade pip"
   ]
  },
  {
   "cell_type": "code",
   "execution_count": 29,
   "id": "875adc40",
   "metadata": {},
   "outputs": [
    {
     "name": "stdout",
     "output_type": "stream",
     "text": [
      "\u001b[33mWARNING: Error parsing dependencies of pyodbc: Invalid version: '4.0.0-unsupported'\u001b[0m\u001b[33m\n",
      "\u001b[0mNote: you may need to restart the kernel to use updated packages.\n"
     ]
    }
   ],
   "source": [
    "%pip install -q -U urlextract"
   ]
  },
  {
   "cell_type": "code",
   "execution_count": 30,
   "id": "062a4cd3",
   "metadata": {},
   "outputs": [
    {
     "name": "stdout",
     "output_type": "stream",
     "text": [
      "['github.com', 'https://youtu.be']\n"
     ]
    }
   ],
   "source": [
    "#urlextract 라이브러리를 사용해 인터넷 주소를 \"URL\" 문자로 바꾸기\n",
    "import urlextract\n",
    "\n",
    "url_extractor=urlextract.URLExtract()\n",
    "some_text=\"Will it detect github.com and https://youtu.be\"\n",
    "print(url_extractor.find_urls(some_text))"
   ]
  },
  {
   "cell_type": "code",
   "execution_count": 32,
   "id": "9ff41449",
   "metadata": {},
   "outputs": [
    {
     "ename": "SyntaxError",
     "evalue": "invalid syntax (1579096085.py, line 28)",
     "output_type": "error",
     "traceback": [
      "\u001b[0;36m  File \u001b[0;32m\"/var/folders/6x/4ry3jzt90r9dc3l60wtfp3fc0000gn/T/ipykernel_6189/1579096085.py\"\u001b[0;36m, line \u001b[0;32m28\u001b[0m\n\u001b[0;31m    if self.replace_nu,bers:\u001b[0m\n\u001b[0m                      ^\u001b[0m\n\u001b[0;31mSyntaxError\u001b[0m\u001b[0;31m:\u001b[0m invalid syntax\n"
     ]
    }
   ],
   "source": [
    "#위 작업을 하나의 변환기로 연결하여 이메일을 단어 카운트로 바꾸기\n",
    "from skleanr.base import BaseEstimator, TransformerMixin\n",
    "\n",
    "class EmailToWordCounterTransformer(BaseEstimator, TransformerMixin):\n",
    "    def __init__(self, strip_header=True, lower_case=True,\n",
    "                remove_punctuations=True, replace_urls=True,\n",
    "                replace_numbers=True, stemming=True):\n",
    "        self.strip_headers=strip_headers\n",
    "        self.lower_case=lower_case\n",
    "        self.remove_punctuation=remove_pucnctuations\n",
    "        self.replace_urls=replace_urls\n",
    "        self.replace_numbers=replace_numbers\n",
    "        self.stemming=stemming\n",
    "\n",
    "    def fit(self, X, y=None):\n",
    "        return self\n",
    "    def transform(self, X, y=None):\n",
    "        X_transformed=[]\n",
    "        for email in X:\n",
    "            text=eamil_to_text(email) or \"\"\n",
    "            if self.lower_case:\n",
    "                text=text.lowe()\n",
    "            if self.replace_urls and url_extractor is not None:\n",
    "                urls=list(set(url_extractor.find_urls(text)))\n",
    "                urls.sort(key=lambda url:len(url), reverse=True)\n",
    "                for url in urls:\n",
    "                    text=text.replace(url,\" URL \")\n",
    "            if self.replace_numbers:\n",
    "                text=re.sub(r'\\d+(?:\\.\\d*)?(?:[eE][+-]?\\d+)?','NUMBER',text)\n",
    "            if self.remove_punctuation:\n",
    "                text=re.sub(r'\\W+','', text,flags=re.M)\n",
    "            word_count=Counter(text.split())"
   ]
  },
  {
   "cell_type": "code",
   "execution_count": null,
   "id": "35b44022",
   "metadata": {},
   "outputs": [],
   "source": []
  }
 ],
 "metadata": {
  "kernelspec": {
   "display_name": "Python 3 (ipykernel)",
   "language": "python",
   "name": "python3"
  },
  "language_info": {
   "codemirror_mode": {
    "name": "ipython",
    "version": 3
   },
   "file_extension": ".py",
   "mimetype": "text/x-python",
   "name": "python",
   "nbconvert_exporter": "python",
   "pygments_lexer": "ipython3",
   "version": "3.9.7"
  }
 },
 "nbformat": 4,
 "nbformat_minor": 5
}
