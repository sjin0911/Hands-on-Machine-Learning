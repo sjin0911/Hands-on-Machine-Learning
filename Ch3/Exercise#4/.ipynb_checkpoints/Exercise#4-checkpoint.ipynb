{
 "cells": [
  {
   "cell_type": "markdown",
   "id": "52cb9a3b",
   "metadata": {},
   "source": [
    "# 데이터 셋 내려받기"
   ]
  },
  {
   "cell_type": "code",
   "execution_count": 11,
   "id": "7e57a089",
   "metadata": {},
   "outputs": [],
   "source": [
    "import tarfile\n",
    "from pathlib import Path\n",
    "import urllib.request\n",
    "\n",
    "def fetch_spam_data():\n",
    "    spam_root=\"http://spamassassin.apache.org/old/publiccorpus/\"\n",
    "    ham_url=spam_root+\"20030228_easy_ham.tar.bz2\"\n",
    "    spam_url=spam_root+\"20030228_spam.tar.bz2\"\n",
    "    \n",
    "    spam_path=Path()/\"datasets\"/\"spam\"\n",
    "    spam_path.mkdir(parents=True, exist_ok=True)\n",
    "    for dir_name, tar_name, url in ((\"easy_ham\",\"ham\",ham_url),\n",
    "                                   (\"spam\",\"spam\",spam_url)):\n",
    "        if not (spam_path/dir_name).is_dir():\n",
    "            path=(spam_path/tar_name).with_suffix(\".tar.bz2\")\n",
    "            print(\"Downloading\",path)\n",
    "            urllib.request.urlretrieve(url, path)\n",
    "            tar_bz2_file=tarfile.open(path)\n",
    "            tar_bz2_file.extractall(path=spam_path)\n",
    "            tar_bz2_file.close()\n",
    "    return [spam_path/dir_name for dir_name in (\"easy_ham\",\"spam\")]"
   ]
  },
  {
   "cell_type": "code",
   "execution_count": 13,
   "id": "9ced6394",
   "metadata": {},
   "outputs": [],
   "source": [
    "ham_dir, spam_dir = fetch_spam_data()"
   ]
  },
  {
   "cell_type": "code",
   "execution_count": 15,
   "id": "22db51b9",
   "metadata": {},
   "outputs": [],
   "source": [
    "#모든 이메일 읽어들이기\n",
    "ham_filenames=[f for f in sorted(ham_dir.iterdir()) if len(f.name)>20]\n",
    "spam_filenames=[f for f in sorted(spam_dir.iterdir()) if len(f.name)>20]"
   ]
  },
  {
   "cell_type": "code",
   "execution_count": 16,
   "id": "63dfaa48",
   "metadata": {},
   "outputs": [
    {
     "data": {
      "text/plain": [
       "2500"
      ]
     },
     "execution_count": 16,
     "metadata": {},
     "output_type": "execute_result"
    }
   ],
   "source": [
    "len(ham_filenames)"
   ]
  },
  {
   "cell_type": "code",
   "execution_count": 18,
   "id": "169297ca",
   "metadata": {},
   "outputs": [
    {
     "data": {
      "text/plain": [
       "500"
      ]
     },
     "execution_count": 18,
     "metadata": {},
     "output_type": "execute_result"
    }
   ],
   "source": [
    "len(spam_filenames)"
   ]
  },
  {
   "cell_type": "code",
   "execution_count": 22,
   "id": "4715b0a2",
   "metadata": {},
   "outputs": [
    {
     "data": {
      "text/plain": [
       "[PosixPath('datasets/spam/easy_ham/00001.7c53336b37003a9286aba55d2945844c'),\n",
       " PosixPath('datasets/spam/easy_ham/00002.9c4069e25e1ef370c078db7ee85ff9ac'),\n",
       " PosixPath('datasets/spam/easy_ham/00003.860e3c3cee1b42ead714c5c874fe25f7'),\n",
       " PosixPath('datasets/spam/easy_ham/00004.864220c5b6930b209cc287c361c99af1'),\n",
       " PosixPath('datasets/spam/easy_ham/00005.bf27cdeaf0b8c4647ecd61b1d09da613')]"
      ]
     },
     "execution_count": 22,
     "metadata": {},
     "output_type": "execute_result"
    }
   ],
   "source": [
    "#list에 PosixPath가 담겨있는 형태\n",
    "ham_filenames[:5]"
   ]
  },
  {
   "cell_type": "code",
   "execution_count": 23,
   "id": "66e07321",
   "metadata": {},
   "outputs": [],
   "source": [
    "#모듈을 사용해 이메일 파싱하기\n",
    "import email\n",
    "import email.policy\n",
    "\n",
    "def load_email(filepath):\n",
    "    with open(filepath, \"rb\") as f:\n",
    "        return email.parser.BytesParser(policy=email.policy.default).parse(f)"
   ]
  },
  {
   "cell_type": "code",
   "execution_count": 25,
   "id": "94b512ed",
   "metadata": {},
   "outputs": [],
   "source": [
    "ham_emails=[load_email(filepath) for filepath in ham_filenames]\n",
    "spam_emails=[load_email(filepath) for filepath in spam_filenames]"
   ]
  },
  {
   "cell_type": "code",
   "execution_count": 27,
   "id": "54129f02",
   "metadata": {},
   "outputs": [
    {
     "data": {
      "text/plain": [
       "[<email.message.EmailMessage at 0x7faf48021b80>,\n",
       " <email.message.EmailMessage at 0x7faf4802da30>,\n",
       " <email.message.EmailMessage at 0x7faf4802d610>,\n",
       " <email.message.EmailMessage at 0x7faf4802df40>,\n",
       " <email.message.EmailMessage at 0x7faf4802d370>]"
      ]
     },
     "execution_count": 27,
     "metadata": {},
     "output_type": "execute_result"
    }
   ],
   "source": [
    "#list에 각 이메일이 저장되어 있음\n",
    "ham_emails[:5]"
   ]
  },
  {
   "cell_type": "code",
   "execution_count": 30,
   "id": "33471bf4",
   "metadata": {},
   "outputs": [
    {
     "name": "stdout",
     "output_type": "stream",
     "text": [
      "Martin A posted:\n",
      "Tassos Papadopoulos, the Greek sculptor behind the plan, judged that the\n",
      " limestone of Mount Kerdylio, 70 miles east of Salonika and not far from the\n",
      " Mount Athos monastic community, was ideal for the patriotic sculpture. \n",
      " \n",
      " As well as Alexander's granite features, 240 ft high and 170 ft wide, a\n",
      " museum, a restored amphitheatre and car park for admiring crowds are\n",
      "planned\n",
      "---------------------\n",
      "So is this mountain limestone or granite?\n",
      "If it's limestone, it'll weather pretty fast.\n",
      "\n",
      "------------------------ Yahoo! Groups Sponsor ---------------------~-->\n",
      "4 DVDs Free +s&p Join Now\n",
      "http://us.click.yahoo.com/pt6YBB/NXiEAA/mG3HAA/7gSolB/TM\n",
      "---------------------------------------------------------------------~->\n",
      "\n",
      "To unsubscribe from this group, send an email to:\n",
      "forteana-unsubscribe@egroups.com\n",
      "\n",
      " \n",
      "\n",
      "Your use of Yahoo! Groups is subject to http://docs.yahoo.com/info/terms/\n"
     ]
    }
   ],
   "source": [
    "#email 내용 오픈을 위해선 get_contnt 함수 사용 필수\n",
    "print(ham_emails[1].get_content().strip())"
   ]
  },
  {
   "cell_type": "markdown",
   "id": "496e0212",
   "metadata": {},
   "source": [
    "어떤 이메일은 이미지나 첨부파일을 가진 멀티파트로 구성"
   ]
  },
  {
   "cell_type": "code",
   "execution_count": 37,
   "id": "2cf342e8",
   "metadata": {},
   "outputs": [],
   "source": [
    "def get_email_structure(email):\n",
    "    if isinstance(email, str):\n",
    "        return email\n",
    "    payload=email.get_payload()\n",
    "    if isinstance(payload, list):\n",
    "        multipart=\",\".join([get_email_structure(sub_email)\n",
    "                           for sub_email in payload])\n",
    "        return f\"multipart({multipart})\"\n",
    "    else:\n",
    "        return email.get_content_type()"
   ]
  },
  {
   "cell_type": "code",
   "execution_count": 38,
   "id": "de5bdbae",
   "metadata": {},
   "outputs": [],
   "source": [
    "from collections import Counter\n",
    "\n",
    "def structures_counter(emails):\n",
    "    structures=Counter()\n",
    "    for email in emails:\n",
    "        structure=get_email_structure(email)\n",
    "        structures[structure]+=1\n",
    "    return structures"
   ]
  },
  {
   "cell_type": "code",
   "execution_count": 39,
   "id": "a350e8aa",
   "metadata": {},
   "outputs": [
    {
     "data": {
      "text/plain": [
       "[('text/plain', 2408),\n",
       " ('multipart(text/plain,application/pgp-signature)', 66),\n",
       " ('multipart(text/plain,text/html)', 8),\n",
       " ('multipart(text/plain,text/plain)', 4),\n",
       " ('multipart(text/plain)', 3),\n",
       " ('multipart(text/plain,application/octet-stream)', 2),\n",
       " ('multipart(text/plain,text/enriched)', 1),\n",
       " ('multipart(text/plain,application/ms-tnef,text/plain)', 1),\n",
       " ('multipart(multipart(text/plain,text/plain,text/plain),application/pgp-signature)',\n",
       "  1),\n",
       " ('multipart(text/plain,video/mng)', 1),\n",
       " ('multipart(text/plain,multipart(text/plain))', 1),\n",
       " ('multipart(text/plain,application/x-pkcs7-signature)', 1),\n",
       " ('multipart(text/plain,multipart(text/plain,text/plain),text/rfc822-headers)',\n",
       "  1),\n",
       " ('multipart(text/plain,multipart(text/plain,text/plain),multipart(multipart(text/plain,application/x-pkcs7-signature)))',\n",
       "  1),\n",
       " ('multipart(text/plain,application/x-java-applet)', 1)]"
      ]
     },
     "execution_count": 39,
     "metadata": {},
     "output_type": "execute_result"
    }
   ],
   "source": [
    "structures_counter(ham_emails).most_common()"
   ]
  },
  {
   "cell_type": "code",
   "execution_count": 40,
   "id": "0061164d",
   "metadata": {},
   "outputs": [
    {
     "data": {
      "text/plain": [
       "[('text/plain', 218),\n",
       " ('text/html', 183),\n",
       " ('multipart(text/plain,text/html)', 45),\n",
       " ('multipart(text/html)', 20),\n",
       " ('multipart(text/plain)', 19),\n",
       " ('multipart(multipart(text/html))', 5),\n",
       " ('multipart(text/plain,image/jpeg)', 3),\n",
       " ('multipart(text/html,application/octet-stream)', 2),\n",
       " ('multipart(text/plain,application/octet-stream)', 1),\n",
       " ('multipart(text/html,text/plain)', 1),\n",
       " ('multipart(multipart(text/html),application/octet-stream,image/jpeg)', 1),\n",
       " ('multipart(multipart(text/plain,text/html),image/gif)', 1),\n",
       " ('multipart/alternative', 1)]"
      ]
     },
     "execution_count": 40,
     "metadata": {},
     "output_type": "execute_result"
    }
   ],
   "source": [
    "structures_counter(spam_emails).most_common()"
   ]
  },
  {
   "cell_type": "markdown",
   "id": "71f8c02f",
   "metadata": {},
   "source": [
    "각각 구성 내용을 살펴보자면 햄 이메일들은 대부분 plain text이고 스팸 메일들은 html이 차지하는 비중이 큼\n",
    "\n",
    "햄 이메일들은 서명을 포함하는 경우가 종종 있음"
   ]
  },
  {
   "cell_type": "code",
   "execution_count": 42,
   "id": "d5f7cbaf",
   "metadata": {},
   "outputs": [
    {
     "name": "stdout",
     "output_type": "stream",
     "text": [
      "Return-Path : <12a1mailbot1@web.de>\n",
      "Delivered-To : zzzz@localhost.spamassassin.taint.org\n",
      "Received : from localhost (localhost [127.0.0.1])\tby phobos.labs.spamassassin.taint.org (Postfix) with ESMTP id 136B943C32\tfor <zzzz@localhost>; Thu, 22 Aug 2002 08:17:21 -0400 (EDT)\n",
      "Received : from mail.webnote.net [193.120.211.219]\tby localhost with POP3 (fetchmail-5.9.0)\tfor zzzz@localhost (single-drop); Thu, 22 Aug 2002 13:17:21 +0100 (IST)\n",
      "Received : from dd_it7 ([210.97.77.167])\tby webnote.net (8.9.3/8.9.3) with ESMTP id NAA04623\tfor <zzzz@spamassassin.taint.org>; Thu, 22 Aug 2002 13:09:41 +0100\n",
      "From : 12a1mailbot1@web.de\n",
      "Received : from r-smtp.korea.com - 203.122.2.197 by dd_it7  with Microsoft SMTPSVC(5.5.1775.675.6);\t Sat, 24 Aug 2002 09:42:10 +0900\n",
      "To : dcek1a1@netsgo.com\n",
      "Subject : Life Insurance - Why Pay More?\n",
      "Date : Wed, 21 Aug 2002 20:31:57 -1600\n",
      "MIME-Version : 1.0\n",
      "Message-ID : <0103c1042001882DD_IT7@dd_it7>\n",
      "Content-Type : text/html; charset=\"iso-8859-1\"\n",
      "Content-Transfer-Encoding : quoted-printable\n"
     ]
    }
   ],
   "source": [
    "#이메일 헤더 살펴보기\n",
    "for header, value in spam_emails[0].items():\n",
    "    print(header, \":\", value)"
   ]
  },
  {
   "cell_type": "code",
   "execution_count": 43,
   "id": "496695e0",
   "metadata": {},
   "outputs": [
    {
     "data": {
      "text/plain": [
       "'Life Insurance - Why Pay More?'"
      ]
     },
     "execution_count": 43,
     "metadata": {},
     "output_type": "execute_result"
    }
   ],
   "source": [
    "spam_emails[0][\"Subject\"]"
   ]
  },
  {
   "cell_type": "code",
   "execution_count": null,
   "id": "bb80b99c",
   "metadata": {},
   "outputs": [],
   "source": []
  }
 ],
 "metadata": {
  "kernelspec": {
   "display_name": "Python 3 (ipykernel)",
   "language": "python",
   "name": "python3"
  },
  "language_info": {
   "codemirror_mode": {
    "name": "ipython",
    "version": 3
   },
   "file_extension": ".py",
   "mimetype": "text/x-python",
   "name": "python",
   "nbconvert_exporter": "python",
   "pygments_lexer": "ipython3",
   "version": "3.9.7"
  }
 },
 "nbformat": 4,
 "nbformat_minor": 5
}
