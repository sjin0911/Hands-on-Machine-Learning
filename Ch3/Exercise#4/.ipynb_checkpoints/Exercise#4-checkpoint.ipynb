{
 "cells": [
  {
   "cell_type": "markdown",
   "id": "52cb9a3b",
   "metadata": {},
   "source": [
    "# 데이터 셋 내려받기"
   ]
  },
  {
   "cell_type": "code",
   "execution_count": 1,
   "id": "7e57a089",
   "metadata": {},
   "outputs": [],
   "source": [
    "import tarfile\n",
    "from pathlib import Path\n",
    "import urllib.request\n",
    "\n",
    "def fetch_spam_data():\n",
    "    spam_root=\"http://spamassassin.apache.org/old/publiccorpus/\"\n",
    "    ham_url=spam_root+\"20030228_easy_ham.tar.bz2\"\n",
    "    spam_url=spam_root+\"20030228_spam.tar.bz2\"\n",
    "    \n",
    "    spam_path=Path()/\"datasets\"/\"spam\"\n",
    "    spam_path.mkdir(parents=True, exist_ok=True)\n",
    "    for dir_name, tar_name, url in ((\"easy_ham\",\"ham\",ham_url),\n",
    "                                   (\"spam\",\"spam\",spam_url)):\n",
    "        if not (spam_path/dir_name).is_dir():\n",
    "            path=(spam_path/tar_name).with_suffix(\".tar.bz2\")\n",
    "            print(\"Downloading\",path)\n",
    "            urllib.request.urlretrieve(url, path)\n",
    "            tar_bz2_file=tarfile.open(path)\n",
    "            tar_bz2_file.extractall(path=spam_path)\n",
    "            tar_bz2_file.close()\n",
    "    return [spam_path/dir_name for dir_name in (\"easy_ham\",\"spam\")]"
   ]
  },
  {
   "cell_type": "code",
   "execution_count": 2,
   "id": "9ced6394",
   "metadata": {},
   "outputs": [],
   "source": [
    "ham_dir, spam_dir = fetch_spam_data()"
   ]
  },
  {
   "cell_type": "code",
   "execution_count": 3,
   "id": "22db51b9",
   "metadata": {},
   "outputs": [],
   "source": [
    "#모든 이메일 읽어들이기\n",
    "ham_filenames=[f for f in sorted(ham_dir.iterdir()) if len(f.name)>20]\n",
    "spam_filenames=[f for f in sorted(spam_dir.iterdir()) if len(f.name)>20]"
   ]
  },
  {
   "cell_type": "code",
   "execution_count": 4,
   "id": "63dfaa48",
   "metadata": {},
   "outputs": [
    {
     "data": {
      "text/plain": [
       "2500"
      ]
     },
     "execution_count": 4,
     "metadata": {},
     "output_type": "execute_result"
    }
   ],
   "source": [
    "len(ham_filenames)"
   ]
  },
  {
   "cell_type": "code",
   "execution_count": 5,
   "id": "169297ca",
   "metadata": {},
   "outputs": [
    {
     "data": {
      "text/plain": [
       "500"
      ]
     },
     "execution_count": 5,
     "metadata": {},
     "output_type": "execute_result"
    }
   ],
   "source": [
    "len(spam_filenames)"
   ]
  },
  {
   "cell_type": "code",
   "execution_count": 6,
   "id": "4715b0a2",
   "metadata": {},
   "outputs": [
    {
     "data": {
      "text/plain": [
       "[PosixPath('datasets/spam/easy_ham/00001.7c53336b37003a9286aba55d2945844c'),\n",
       " PosixPath('datasets/spam/easy_ham/00002.9c4069e25e1ef370c078db7ee85ff9ac'),\n",
       " PosixPath('datasets/spam/easy_ham/00003.860e3c3cee1b42ead714c5c874fe25f7'),\n",
       " PosixPath('datasets/spam/easy_ham/00004.864220c5b6930b209cc287c361c99af1'),\n",
       " PosixPath('datasets/spam/easy_ham/00005.bf27cdeaf0b8c4647ecd61b1d09da613')]"
      ]
     },
     "execution_count": 6,
     "metadata": {},
     "output_type": "execute_result"
    }
   ],
   "source": [
    "#list에 PosixPath가 담겨있는 형태\n",
    "ham_filenames[:5]"
   ]
  },
  {
   "cell_type": "code",
   "execution_count": 7,
   "id": "66e07321",
   "metadata": {},
   "outputs": [],
   "source": [
    "#모듈을 사용해 이메일 파싱하기\n",
    "import email\n",
    "import email.policy\n",
    "\n",
    "def load_email(filepath):\n",
    "    with open(filepath, \"rb\") as f:\n",
    "        return email.parser.BytesParser(policy=email.policy.default).parse(f)"
   ]
  },
  {
   "cell_type": "code",
   "execution_count": 8,
   "id": "94b512ed",
   "metadata": {},
   "outputs": [],
   "source": [
    "ham_emails=[load_email(filepath) for filepath in ham_filenames]\n",
    "spam_emails=[load_email(filepath) for filepath in spam_filenames]"
   ]
  },
  {
   "cell_type": "code",
   "execution_count": 9,
   "id": "54129f02",
   "metadata": {},
   "outputs": [
    {
     "data": {
      "text/plain": [
       "[<email.message.EmailMessage at 0x7fc499bbe970>,\n",
       " <email.message.EmailMessage at 0x7fc499bba9d0>,\n",
       " <email.message.EmailMessage at 0x7fc499b93cd0>,\n",
       " <email.message.EmailMessage at 0x7fc499b93e80>,\n",
       " <email.message.EmailMessage at 0x7fc499b93a30>]"
      ]
     },
     "execution_count": 9,
     "metadata": {},
     "output_type": "execute_result"
    }
   ],
   "source": [
    "#list에 각 이메일이 저장되어 있음\n",
    "ham_emails[:5]"
   ]
  },
  {
   "cell_type": "code",
   "execution_count": 10,
   "id": "33471bf4",
   "metadata": {},
   "outputs": [
    {
     "name": "stdout",
     "output_type": "stream",
     "text": [
      "Martin A posted:\n",
      "Tassos Papadopoulos, the Greek sculptor behind the plan, judged that the\n",
      " limestone of Mount Kerdylio, 70 miles east of Salonika and not far from the\n",
      " Mount Athos monastic community, was ideal for the patriotic sculpture. \n",
      " \n",
      " As well as Alexander's granite features, 240 ft high and 170 ft wide, a\n",
      " museum, a restored amphitheatre and car park for admiring crowds are\n",
      "planned\n",
      "---------------------\n",
      "So is this mountain limestone or granite?\n",
      "If it's limestone, it'll weather pretty fast.\n",
      "\n",
      "------------------------ Yahoo! Groups Sponsor ---------------------~-->\n",
      "4 DVDs Free +s&p Join Now\n",
      "http://us.click.yahoo.com/pt6YBB/NXiEAA/mG3HAA/7gSolB/TM\n",
      "---------------------------------------------------------------------~->\n",
      "\n",
      "To unsubscribe from this group, send an email to:\n",
      "forteana-unsubscribe@egroups.com\n",
      "\n",
      " \n",
      "\n",
      "Your use of Yahoo! Groups is subject to http://docs.yahoo.com/info/terms/\n"
     ]
    }
   ],
   "source": [
    "#email 내용 오픈을 위해선 get_contnt 함수 사용 필수\n",
    "print(ham_emails[1].get_content().strip())"
   ]
  },
  {
   "cell_type": "markdown",
   "id": "496e0212",
   "metadata": {},
   "source": [
    "어떤 이메일은 이미지나 첨부파일을 가진 멀티파트로 구성"
   ]
  },
  {
   "cell_type": "code",
   "execution_count": 54,
   "id": "2cf342e8",
   "metadata": {},
   "outputs": [],
   "source": [
    "def get_email_structure(email):\n",
    "    if isinstance(email, str):\n",
    "        return email\n",
    "    payload=email.get_payload()\n",
    "    if isinstance(payload, list):\n",
    "        multipart=\", \".join([get_email_structure(sub_email)\n",
    "                           for sub_email in payload])\n",
    "        return f\"multipart({multipart})\"\n",
    "    else:\n",
    "        return email.get_content_type()"
   ]
  },
  {
   "cell_type": "code",
   "execution_count": 55,
   "id": "de5bdbae",
   "metadata": {},
   "outputs": [],
   "source": [
    "from collections import Counter\n",
    "\n",
    "def structures_counter(emails):\n",
    "    structures=Counter()\n",
    "    for email in emails:\n",
    "        structure=get_email_structure(email)\n",
    "        structures[structure]+=1\n",
    "    return structures"
   ]
  },
  {
   "cell_type": "code",
   "execution_count": 56,
   "id": "a350e8aa",
   "metadata": {},
   "outputs": [
    {
     "data": {
      "text/plain": [
       "[('text/plain', 2408),\n",
       " ('multipart(text/plain, application/pgp-signature)', 66),\n",
       " ('multipart(text/plain, text/html)', 8),\n",
       " ('multipart(text/plain, text/plain)', 4),\n",
       " ('multipart(text/plain)', 3),\n",
       " ('multipart(text/plain, application/octet-stream)', 2),\n",
       " ('multipart(text/plain, text/enriched)', 1),\n",
       " ('multipart(text/plain, application/ms-tnef, text/plain)', 1),\n",
       " ('multipart(multipart(text/plain, text/plain, text/plain), application/pgp-signature)',\n",
       "  1),\n",
       " ('multipart(text/plain, video/mng)', 1),\n",
       " ('multipart(text/plain, multipart(text/plain))', 1),\n",
       " ('multipart(text/plain, application/x-pkcs7-signature)', 1),\n",
       " ('multipart(text/plain, multipart(text/plain, text/plain), text/rfc822-headers)',\n",
       "  1),\n",
       " ('multipart(text/plain, multipart(text/plain, text/plain), multipart(multipart(text/plain, application/x-pkcs7-signature)))',\n",
       "  1),\n",
       " ('multipart(text/plain, application/x-java-applet)', 1)]"
      ]
     },
     "execution_count": 56,
     "metadata": {},
     "output_type": "execute_result"
    }
   ],
   "source": [
    "structures_counter(ham_emails).most_common()"
   ]
  },
  {
   "cell_type": "code",
   "execution_count": 57,
   "id": "0061164d",
   "metadata": {},
   "outputs": [
    {
     "data": {
      "text/plain": [
       "[('text/plain', 218),\n",
       " ('text/html', 183),\n",
       " ('multipart(text/plain, text/html)', 45),\n",
       " ('multipart(text/html)', 20),\n",
       " ('multipart(text/plain)', 19),\n",
       " ('multipart(multipart(text/html))', 5),\n",
       " ('multipart(text/plain, image/jpeg)', 3),\n",
       " ('multipart(text/html, application/octet-stream)', 2),\n",
       " ('multipart(text/plain, application/octet-stream)', 1),\n",
       " ('multipart(text/html, text/plain)', 1),\n",
       " ('multipart(multipart(text/html), application/octet-stream, image/jpeg)', 1),\n",
       " ('multipart(multipart(text/plain, text/html), image/gif)', 1),\n",
       " ('multipart/alternative', 1)]"
      ]
     },
     "execution_count": 57,
     "metadata": {},
     "output_type": "execute_result"
    }
   ],
   "source": [
    "structures_counter(spam_emails).most_common()"
   ]
  },
  {
   "cell_type": "markdown",
   "id": "71f8c02f",
   "metadata": {},
   "source": [
    "각각 구성 내용을 살펴보자면 햄 이메일들은 대부분 plain text이고 스팸 메일들은 html이 차지하는 비중이 큼\n",
    "\n",
    "햄 이메일들은 서명을 포함하는 경우가 종종 있음"
   ]
  },
  {
   "cell_type": "code",
   "execution_count": 58,
   "id": "d5f7cbaf",
   "metadata": {},
   "outputs": [
    {
     "name": "stdout",
     "output_type": "stream",
     "text": [
      "Return-Path : <12a1mailbot1@web.de>\n",
      "Delivered-To : zzzz@localhost.spamassassin.taint.org\n",
      "Received : from localhost (localhost [127.0.0.1])\tby phobos.labs.spamassassin.taint.org (Postfix) with ESMTP id 136B943C32\tfor <zzzz@localhost>; Thu, 22 Aug 2002 08:17:21 -0400 (EDT)\n",
      "Received : from mail.webnote.net [193.120.211.219]\tby localhost with POP3 (fetchmail-5.9.0)\tfor zzzz@localhost (single-drop); Thu, 22 Aug 2002 13:17:21 +0100 (IST)\n",
      "Received : from dd_it7 ([210.97.77.167])\tby webnote.net (8.9.3/8.9.3) with ESMTP id NAA04623\tfor <zzzz@spamassassin.taint.org>; Thu, 22 Aug 2002 13:09:41 +0100\n",
      "From : 12a1mailbot1@web.de\n",
      "Received : from r-smtp.korea.com - 203.122.2.197 by dd_it7  with Microsoft SMTPSVC(5.5.1775.675.6);\t Sat, 24 Aug 2002 09:42:10 +0900\n",
      "To : dcek1a1@netsgo.com\n",
      "Subject : Life Insurance - Why Pay More?\n",
      "Date : Wed, 21 Aug 2002 20:31:57 -1600\n",
      "MIME-Version : 1.0\n",
      "Message-ID : <0103c1042001882DD_IT7@dd_it7>\n",
      "Content-Type : text/html; charset=\"iso-8859-1\"\n",
      "Content-Transfer-Encoding : quoted-printable\n"
     ]
    }
   ],
   "source": [
    "#이메일 헤더 살펴보기\n",
    "for header, value in spam_emails[0].items():\n",
    "    print(header, \":\", value)"
   ]
  },
  {
   "cell_type": "code",
   "execution_count": 59,
   "id": "496695e0",
   "metadata": {
    "scrolled": true
   },
   "outputs": [
    {
     "data": {
      "text/plain": [
       "'Life Insurance - Why Pay More?'"
      ]
     },
     "execution_count": 59,
     "metadata": {},
     "output_type": "execute_result"
    }
   ],
   "source": [
    "spam_emails[0][\"Subject\"]"
   ]
  },
  {
   "cell_type": "markdown",
   "id": "27e203a2",
   "metadata": {},
   "source": [
    "# 훈련 세트와 테스트 세트로 분리하기"
   ]
  },
  {
   "cell_type": "code",
   "execution_count": 60,
   "id": "e0d662a8",
   "metadata": {},
   "outputs": [],
   "source": [
    "import pandas as pd\n",
    "import numpy as np\n",
    "\n",
    "data_set=np.array(ham_emails+spam_emails,dtype=object)\n",
    "data_label=np.array([0]*len(ham_emails)+[1]*len(spam_emails))"
   ]
  },
  {
   "cell_type": "code",
   "execution_count": 61,
   "id": "9794fb0f",
   "metadata": {},
   "outputs": [],
   "source": [
    "from sklearn.model_selection import train_test_split\n",
    "\n",
    "X_train, X_test, y_train, y_test=train_test_split(data_set, data_label,test_size=0.1,random_state=42)"
   ]
  },
  {
   "cell_type": "markdown",
   "id": "706d4c98",
   "metadata": {},
   "source": [
    "전처리 함수 작성: HTML을 일반 텍스트로 변환하는 함수 \n",
    "- head 섹션을 삭제하고 모든 a 태그를 HYPERLINK 문자로 바꿈\n",
    "- 모든 HTML 태그를 제거하고 텍스트만 남김\n",
    "- 보기 편하게 여러개의 개행 문자를 하나로 만들고 html 엔티티를 복원"
   ]
  },
  {
   "cell_type": "markdown",
   "id": "cabf8b85",
   "metadata": {},
   "source": [
    "# 변환 파이프라인 작성"
   ]
  },
  {
   "cell_type": "code",
   "execution_count": 73,
   "id": "ba09d08e",
   "metadata": {},
   "outputs": [],
   "source": [
    "import re\n",
    "from html import unescape\n",
    "\n",
    "def html_to_plain_text(html):\n",
    "    text=re.sub('<head.*?>.*?</head>', '', html, flags=re.M|re.S|re.I)\n",
    "    text=re.sub('<a\\s.*?>',' HYPERLINK ', text, flags=re.M|re.S|re.I)\n",
    "    text=re.sub('<.*?>', '', text, flags=re.M|re.S)\n",
    "    text=re.sub(r'(\\s*\\n)+', '\\n', text, flags=re.M|re.S)\n",
    "    return unescape(text)"
   ]
  },
  {
   "cell_type": "code",
   "execution_count": 74,
   "id": "05a57cbe",
   "metadata": {},
   "outputs": [],
   "source": [
    "html_spam_emails=[email for email in X_train[y_train==1]\n",
    "                 if get_email_structure(email)==\"text/html\"]"
   ]
  },
  {
   "cell_type": "code",
   "execution_count": 75,
   "id": "6ca0c124",
   "metadata": {},
   "outputs": [
    {
     "name": "stdout",
     "output_type": "stream",
     "text": [
      "<html>\n",
      "\n",
      "<head>\n",
      "<meta http-equiv=\"Content-Language\" content=\"en-us\">\n",
      "<meta name=\"GENERATOR\" content=\"Microsoft FrontPage 5.0\">\n",
      "<meta name=\"ProgId\" content=\"FrontPage.Editor.Document\">\n",
      "<meta http-equiv=\"Content-Type\" content=\"text/html; charset=windows-1252\">\n",
      "<title>Norton AD</title>\n",
      "</head>\n",
      "\n",
      "<body>\n",
      "\n",
      "<table border=\"3\" cellspacing=\"3\" width=\"469\" cellpadding=\"3\" bgcolor=\"#000080\"  bordercolor=\"#FFFFFF\" style=\"border-collapse: collapse\" bordercolordark=\"#FFFFFF\">\n",
      "  <tr>\n",
      "    <td width=\"447\">&nbsp;\n",
      "      <table border=\"1\" width=\"100%\" bgcolor=\"#FFFFFF\" bordercolor=\"#000080\">\n",
      "        <tr>\n",
      "          <td width=\"100%\" align=\"center\"><font face=\"Impact\" size=\"4\" color=\"#CC0000\">ATTENTION:\n",
      "            This is a MUST for <u>ALL</u> Computer Users!!!</font></td>\n",
      "        </tr>\n",
      "      </table>\n",
      "      <p align=\"center\"><font size=\"3\" face=\"Verdana\"><b>&nbsp;<font color=\"#FFFFFF\">*NEW\n",
      "      - Special Package Deal!*</font></b></font></p>\n",
      "      <table border=\"8\" width=\"100%\" height=\"86\" bgcolor=\"#FFFFFF\" bo ...\n"
     ]
    }
   ],
   "source": [
    "sample_html_spam=html_spam_emails[1]\n",
    "print(sample_html_spam.get_content().strip()[:1000],\"...\")"
   ]
  },
  {
   "cell_type": "code",
   "execution_count": 67,
   "id": "90c6007d",
   "metadata": {},
   "outputs": [
    {
     "name": "stdout",
     "output_type": "stream",
     "text": [
      "\n",
      "     \n",
      "          ATTENTION:\n",
      "            This is a MUST for ALL Computer Users!!!\n",
      "       *NEW\n",
      "      - Special Package Deal!*\n",
      "          Norton\n",
      "            SystemWorks 2002 Software Suite\n",
      "            -Professional Edition-\n",
      "          Includes\n",
      "            Six - Yes 6! - Feature-Packed UtilitiesALL\n",
      "            for 1\n",
      "            Special LOW\n",
      "            Price!\n",
      "          This Software Will:- Protect your\n",
      "            computer from unwanted and  hazardous viruses- Help secure your\n",
      "            private & valuable information- Allow you to transfer files\n",
      "            and send e-mails  safely- Backup your ALL your data quick and\n",
      "            easily- Improve your PC's performance w/superior\n",
      "            integral diagnostics!\n",
      "       \n",
      "            6\n",
      "            Feature-Packed Utilities\n",
      "            1\n",
      "             Great\n",
      "            Price\n",
      "            A $300+   Combined Retail Value\n",
      "            YOURS for Only $29.99!\n",
      "            <Includes\n",
      "            FREE Shipping!>\n",
      "     Don't fall prey to destructive viruses\n",
      "  ...\n"
     ]
    }
   ],
   "source": [
    "print(html_to_plain_text(sample_html_spam.get_content())[:1000],\"...\")"
   ]
  },
  {
   "cell_type": "code",
   "execution_count": 76,
   "id": "5a339636",
   "metadata": {},
   "outputs": [],
   "source": [
    "def email_to_text(email):\n",
    "    html=None\n",
    "    \n",
    "    #walk: 메세지 객체 트리의 모든 파트와 서브 파트를 이터레이트하는데 사용되는 범용 제너레이터\n",
    "    for part in email.walk(): \n",
    "        ctype=part.get_content_type()\n",
    "        if not ctype in (\"text/plain\",\"text/html\"):\n",
    "            continue\n",
    "        try:\n",
    "            content=part.get_contnet()\n",
    "        except: #encoding issue 발생시\n",
    "            content=str(part.get_payload())\n",
    "        if ctype==\"text/plain\":\n",
    "            return content\n",
    "        else:\n",
    "            html=content\n",
    "    if html:\n",
    "        return html_to_plain_text(html)"
   ]
  },
  {
   "cell_type": "code",
   "execution_count": 77,
   "id": "6d3c4d21",
   "metadata": {},
   "outputs": [
    {
     "name": "stdout",
     "output_type": "stream",
     "text": [
      "\n",
      "     \n",
      "          ATTENTION:\n",
      "            This is a MUST for ALL Computer Users!!!\n",
      "       *NEW\n",
      "      - ...\n"
     ]
    }
   ],
   "source": [
    "print(email_to_text(sample_html_spam)[:100],\"...\")"
   ]
  },
  {
   "cell_type": "code",
   "execution_count": 70,
   "id": "49858632",
   "metadata": {
    "scrolled": true
   },
   "outputs": [
    {
     "name": "stdout",
     "output_type": "stream",
     "text": [
      "Computations => comput\n",
      "Computation => comput\n",
      "Computing => comput\n",
      "Computed => comput\n",
      "Compute => comput\n",
      "Compulsive => compuls\n"
     ]
    }
   ],
   "source": [
    "#자연어 처리 툴킷 NLTK를 이용해 어간 추출\n",
    "import nltk\n",
    "\n",
    "stemmer=nltk.PorterStemmer()\n",
    "for word in (\"Computations\",\"Computation\",\"Computing\",\"Computed\",\"Compute\",\n",
    "            \"Compulsive\"):\n",
    "    print(word, \"=>\", stemmer.stem(word))"
   ]
  },
  {
   "cell_type": "code",
   "execution_count": 28,
   "id": "4dfe8a06",
   "metadata": {},
   "outputs": [
    {
     "name": "stdout",
     "output_type": "stream",
     "text": [
      "Requirement already satisfied: pip in /Users/yoonsjin/opt/anaconda3/lib/python3.9/site-packages (24.1.2)\n",
      "\u001b[33mWARNING: Error parsing dependencies of pyodbc: Invalid version: '4.0.0-unsupported'\u001b[0m\u001b[33m\n",
      "\u001b[0mNote: you may need to restart the kernel to use updated packages.\n"
     ]
    }
   ],
   "source": [
    "%pip install --upgrade pip"
   ]
  },
  {
   "cell_type": "code",
   "execution_count": 29,
   "id": "875adc40",
   "metadata": {},
   "outputs": [
    {
     "name": "stdout",
     "output_type": "stream",
     "text": [
      "\u001b[33mWARNING: Error parsing dependencies of pyodbc: Invalid version: '4.0.0-unsupported'\u001b[0m\u001b[33m\n",
      "\u001b[0mNote: you may need to restart the kernel to use updated packages.\n"
     ]
    }
   ],
   "source": [
    "%pip install -q -U urlextract"
   ]
  },
  {
   "cell_type": "code",
   "execution_count": 45,
   "id": "062a4cd3",
   "metadata": {},
   "outputs": [
    {
     "name": "stdout",
     "output_type": "stream",
     "text": [
      "['github.com', 'https://youtu.be']\n"
     ]
    }
   ],
   "source": [
    "#urlextract 라이브러리를 사용해 인터넷 주소를 \"URL\" 문자로 바꾸기\n",
    "import urlextract\n",
    "\n",
    "url_extractor=urlextract.URLExtract()\n",
    "some_text=\"Will it detect github.com and https://youtu.be\"\n",
    "print(url_extractor.find_urls(some_text))"
   ]
  },
  {
   "cell_type": "code",
   "execution_count": 78,
   "id": "9ff41449",
   "metadata": {},
   "outputs": [],
   "source": [
    "#위 작업을 하나의 변환기로 연결하여 이메일을 단어 카운트로 바꾸기\n",
    "from sklearn.base import BaseEstimator, TransformerMixin\n",
    "\n",
    "class EmailToWordCounterTransformer(BaseEstimator, TransformerMixin):\n",
    "    \n",
    "    def __init__(self, strip_headers=True, lower_case=True,\n",
    "                remove_punctuation=True, replace_urls=True,\n",
    "                replace_numbers=True, stemming=True):\n",
    "        self.strip_headers=strip_headers\n",
    "        self.lower_case=lower_case\n",
    "        self.remove_punctuation=remove_punctuation\n",
    "        self.replace_urls=replace_urls\n",
    "        self.replace_numbers=replace_numbers\n",
    "        self.stemming=stemming\n",
    "\n",
    "    def fit(self, X, y=None):\n",
    "        return self\n",
    "    \n",
    "    def transform(self, X, y=None):\n",
    "        X_transformed=[]\n",
    "        for email in X:\n",
    "            text=email_to_text(email) or \"\"\n",
    "            if self.lower_case:\n",
    "                text=text.lower()\n",
    "            if self.replace_urls and url_extractor is not None:\n",
    "                urls=list(set(url_extractor.find_urls(text)))\n",
    "                urls.sort(key=lambda url:len(url), reverse=True)\n",
    "                for url in urls:\n",
    "                    text=text.replace(url,\" URL \")\n",
    "            if self.replace_numbers:\n",
    "                text=re.sub(r'\\d+(?:\\.\\d*)?(?:[eE][+-]?\\d+)?','NUMBER',text)\n",
    "            if self.remove_punctuation:\n",
    "                text=re.sub(r'\\W+',' ', text,flags=re.M)\n",
    "            word_counts=Counter(text.split())\n",
    "            if self.stemming and stemmer is not None:\n",
    "                stemmed_word_counts=Counter()\n",
    "                for word,count in word_counts.items():\n",
    "                    stemmed_word=stemmer.stem(word)\n",
    "                    stemmed_word_counts[stemmed_word]+=count\n",
    "                word_counts=stemmed_word_counts\n",
    "            X_transformed.append(word_counts)\n",
    "        return np.array(X_transformed)"
   ]
  },
  {
   "cell_type": "code",
   "execution_count": 79,
   "id": "35b44022",
   "metadata": {},
   "outputs": [
    {
     "data": {
      "text/plain": [
       "array([Counter({'the': 19, 'cd': 8, 'it': 8, 'would': 7, 'player': 6, 'to': 5, 'start': 5, 'a': 5, 'and': 5, 'be': 5, 'play': 4, 'toddler': 3, 'immedi': 3, 'like': 3, 'insert': 3, 'is': 3, 'at': 3, 'you': 3, 'write': 2, 'for': 2, 'press': 2, 'music': 2, 'or': 2, 'some': 2, 'that': 2, 'after': 2, 'd': 2, 'an': 2, 'hmm': 2, 'rip': 2, 'cach': 2, 'face': 2, 'seek': 2, 'of': 2, 'recogn': 2, 'which': 2, 'from': 2, 'mr': 1, 'fork': 1, 'jim': 1, 'whitehead': 1, 'must': 1, 'caus': 1, 'within': 1, 'half': 1, 'second': 1, 'get': 1, 'causal': 1, 'not': 1, 'button': 1, 'multipl': 1, 'time': 1, 'sound': 1, 'indic': 1, 'will': 1, 'real': 1, 'soon': 1, 'now': 1, 'tonal': 1, 'countdown': 1, 'nice': 1, 'what': 1, 'ideal': 1, 'wa': 1, 'load': 1, 'mpnumber': 1, 'with': 1, 'solid': 1, 'state': 1, 'storag': 1, 'instant': 1, 'on': 1, 'seem': 1, 'everi': 1, 'should': 1, 'includ': 1, 'capabl': 1, 'encod': 1, 'last': 1, 'few': 1, 'playback': 1, 'then': 1, 'never': 1, 'need': 1, 'delay': 1, 'initi': 1, 'onli': 1, 'use': 1, 'laser': 1, 'pickup': 1, 'might': 1, 'doabl': 1, 'faster': 1, 'than': 1, 'first': 1, 'track': 1, 'oper': 1, 'could': 1, 'also': 1, 'take': 1, 'out': 1, 'while': 1, 'if': 1, 'still': 1, 'in': 1, 'mayb': 1, 'don': 1, 't': 1, 'even': 1, 'have': 1, 'choos': 1, 'step': 1, 'through': 1, 'ui': 1, 'instead': 1, 'just': 1, 'wave': 1, 'electron': 1, 'eye': 1, 'sort': 1, 'silkscreen': 1, 'kid': 1, 'thi': 1, 'they': 1, 'say': 1, 'gordon': 1}),\n",
       "       Counter({'number': 10, 'i': 10, 'the': 10, 'in': 7, 'folder': 7, 'to': 6, 'unseen': 6, 'with': 5, 'it': 5, 'messag': 5, 'next': 5, 'when': 4, 'and': 4, 'exmh': 4, 'a': 4, 'on': 3, 'wish': 3, 'from': 3, 'go': 3, 'inbox': 3, 'first': 2, 'take': 2, 'start': 2, 'but': 2, 'thi': 2, 'flist': 2, 'm': 2, 'see': 2, 'ha': 2, 'rather': 2, 'than': 2, 'as': 2, 'well': 2, 'wed': 1, 'oct': 1, 'edt': 1, 'j': 1, 'w': 1, 'ballantin': 1, 'jwb': 1, 'homer': 1, 'att': 1, 'com': 1, 'said': 1, 'tri': 1, 'run': 1, 'tknumber': 1, 'seem': 1, 'forev': 1, 'tknumbera': 1, 'snap': 1, 'sound': 1, 'like': 1, 'someth': 1, 'piggi': 1, 'code': 1, 'gener': 1, 'second': 1, 'interest': 1, 'that': 1, 'differ': 1, 'come': 1, 'up': 1, 'fast': 1, 'there': 1, 'might': 1, 'be': 1, 'borked': 1, 'use': 1, 'latest': 1, 'cv': 1, 'open': 1, 'hit': 1, 'chang': 1, 'current': 1, 'hmm': 1, 'weird': 1, 'final': 1, 'reach': 1, 'end': 1, 'of': 1, 'alway': 1, 'goe': 1, 'back': 1, 'which': 1, 'no': 1, 'goto': 1, 'doe': 1, 'where': 1, 'would': 1, 'think': 1, 'should': 1, 've': 1, 'been': 1, 'usual': 1, 's': 1, 'gotten': 1, 'stuck': 1, 'some': 1, 'other': 1, 'have': 1, 'procmail': 1, 'do': 1, 'rcvstore': 1, 'into': 1, 'for': 1, 'me': 1, 'valdi': 1, 'kletniek': 1, 'comput': 1, 'system': 1, 'senior': 1, 'engin': 1, 'virginia': 1, 'tech': 1}),\n",
       "       Counter({'the': 54, 'sigma': 20, 'to': 17, 'xvid': 15, 'and': 15, 'codec': 13, 'gpl': 12, 'code': 12, 'of': 11, 'is': 10, 'a': 10, 'number': 9, 'not': 8, 'you': 8, 'it': 8, 'in': 7, 'on': 7, 'have': 7, 'thi': 7, 'sourc': 7, 'wa': 7, 'releas': 6, 'that': 6, 'be': 6, 'but': 6, 's': 6, 'copyright': 6, 'from': 5, 'develop': 5, 'about': 5, 'which': 5, 'their': 5, 'ha': 4, 'for': 4, 't': 4, 'updat': 4, 'issu': 4, 'download': 4, 'notic': 4, 'with': 4, 'url': 4, 'project': 3, 'divx': 3, 'design': 3, 'look': 3, 'file': 3, 'been': 3, 'public': 3, 'licens': 3, 'onli': 3, 'remov': 3, 'now': 3, 'all': 3, 'we': 3, 'also': 3, 'as': 3, 'can': 3, 'make': 2, 'put': 2, 'out': 2, 'other': 2, 'stop': 2, 'work': 2, 'ask': 2, 'some': 2, 'place': 2, 'realmag': 2, 'mpeg': 2, 'contain': 2, 'wide': 2, 'taken': 2, 'contact': 2, 'violat': 2, 'who': 2, 'under': 2, 'program': 2, 'mean': 2, 'avail': 2, 'replac': 2, 'stolen': 2, 'until': 2, 'hope': 2, 'support': 2, 'respect': 2, 'matter': 2, 'resolv': 2, 'will': 2, 'said': 2, 'i': 2, 'intern': 2, 'alreadi': 2, 'first': 2, 'press': 2, 'own': 2, 'line': 2, 'either': 2, 'agreement': 2, 'befor': 2, 'compat': 2, 'doe': 2, 'over': 2, 'chang': 2, 'compani': 1, 'hardwar': 1, 'playback': 1, 'amongst': 1, 'thing': 1, 'problem': 1, 'use': 1, 'gpled': 1, 'way': 1, 'veri': 1, 'result': 1, 'thier': 1, 'user': 1, 'preasur': 1, 'honor': 1, 'note': 1, 'doomnumb': 1, 'video': 1, 'portion': 1, 'soon': 1, 'after': 1, 'initi': 1, 'inform': 1, 'them': 1, 'those': 1, 'don': 1, 'know': 1, 'distribut': 1, 'gnu': 1, 'demand': 1, 'if': 1, 'modifi': 1, 'case': 1, 'must': 1, 'freeli': 1, 'promis': 1, 'new': 1, 'version': 1, 'month': 1, 'disguis': 1, 'actual': 1, 'onc': 1, 'again': 1, 'offend': 1, 'today': 1, 'noth': 1, 'happen': 1, 'therefor': 1, 'team': 1, 'turn': 1, 'receiv': 1, 'effort': 1, 'convinc': 1, 'term': 1, 'continu': 1, 'forum': 1, 'member': 1, 'saw': 1, 'thread': 1, 'close': 1, 'understand': 1, 'our': 1, 'motiv': 1, 'knew': 1, 'what': 1, 'go': 1, 'sinc': 1, 'author': 1, 'want': 1, 'tri': 1, 'wish': 1, 'kept': 1, 'quiet': 1, 'at': 1, 'hand': 1, 'announc': 1, 'up': 1, 'howev': 1, 'word': 1, 'lost': 1, 'one': 1, 'think': 1, 'entir': 1, 'by': 1, 'so': 1, 'might': 1, 'hear': 1, 'more': 1, 'found': 1, 'like': 1, 'there': 1, 'doesn': 1, 'get': 1, 'ani': 1, 'credit': 1, 'collid': 1, 'softwar': 1, 'sign': 1, 'or': 1, 'same': 1, 'divxnetwork': 1, 'they': 1, 'd': 1, 'fulli': 1, 'appar': 1, 'dxn': 1, 'relationship': 1, 'didn': 1, 'realli': 1, 'xcard': 1, 'advertis': 1, 'an': 1, 'situat': 1, 'far': 1, 'agre': 1, 'instal': 1, 'furthermor': 1, 'clearli': 1, 'seen': 1, 'yourself': 1, 'pretti': 1, 'much': 1, 'copi': 1, 'origin': 1, 'law': 1, 'just': 1, 'take': 1, 'few': 1, 'statement': 1, 'protect': 1, 'part': 1, 'wrote': 1, 'your': 1, 'relat': 1, 'opendivx': 1, 'were': 1, 'outfit': 1, 'differ': 1, 'quit': 1, 'funni': 1})],\n",
       "      dtype=object)"
      ]
     },
     "execution_count": 79,
     "metadata": {},
     "output_type": "execute_result"
    }
   ],
   "source": [
    "X_few=X_train[:3]\n",
    "X_few_wordcounts=EmailToWordCounterTransformer().fit_transform(X_few)\n",
    "X_few_wordcounts"
   ]
  },
  {
   "cell_type": "markdown",
   "id": "1d1af446",
   "metadata": {},
   "source": [
    "단어 카운트를 벡터로 변환하는 변환기 작성하기"
   ]
  },
  {
   "cell_type": "code",
   "execution_count": 82,
   "id": "bc0a6283",
   "metadata": {},
   "outputs": [],
   "source": [
    "from scipy.sparse import csr_matrix\n",
    "\n",
    "class WordCounterToVectorTransformer(BaseEstimator, TransformerMixin):\n",
    "    \n",
    "    def __init__(self, vocabulary_size=1000):\n",
    "        self.vocabulary_size=vocabulary_size\n",
    "        \n",
    "    #자주 나타나는 단어 순으로 정렬된 언어 목록 생성\n",
    "    def fit(self, X, y=None):\n",
    "        total_count=Counter()\n",
    "        for word_count in X:\n",
    "            for word, count in word_count.items():\n",
    "                total_count[word]+=min(count,10)\n",
    "        most_common=total_count.most_common()[:self.vocabulary_size]\n",
    "        self.vocabulary_={word: index+1\n",
    "                         for index, (word,count) in enumerate(most_common)}\n",
    "        return self\n",
    "    \n",
    "    def transform(self, X, y=None):\n",
    "        rows=[]\n",
    "        cols=[]\n",
    "        data=[]\n",
    "        for row, word_count in enumerate(X):\n",
    "            for word, count in word_count.items():\n",
    "                rows.append(row)\n",
    "                cols.append(self.vocabulary_.get(word, 0))\n",
    "                data.append(count)\n",
    "        return csr_matrix((data,(rows, cols)),\n",
    "                         shape=(len(X),self.vocabulary_size+1))"
   ]
  },
  {
   "cell_type": "code",
   "execution_count": 84,
   "id": "39fb97d8",
   "metadata": {},
   "outputs": [
    {
     "data": {
      "text/plain": [
       "<3x11 sparse matrix of type '<class 'numpy.int64'>'\n",
       "\twith 31 stored elements in Compressed Sparse Row format>"
      ]
     },
     "execution_count": 84,
     "metadata": {},
     "output_type": "execute_result"
    }
   ],
   "source": [
    "vocab_transformer=WordCounterToVectorTransformer(vocabulary_size=10)\n",
    "X_few_vectors=vocab_transformer.fit_transform(X_few_wordcounts)\n",
    "X_few_vectors"
   ]
  },
  {
   "cell_type": "code",
   "execution_count": 85,
   "id": "d4a57802",
   "metadata": {},
   "outputs": [
    {
     "data": {
      "text/plain": [
       "array([[172,  19,   5,   8,   5,   5,   0,   1,   2,   3,   5],\n",
       "       [167,  10,   6,   5,   4,   4,  10,   7,   1,   0,   1],\n",
       "       [492,  54,  17,   8,  10,  15,   9,   7,  11,  10,   6]])"
      ]
     },
     "execution_count": 85,
     "metadata": {},
     "output_type": "execute_result"
    }
   ],
   "source": [
    "X_few_vectors.toarray()"
   ]
  },
  {
   "cell_type": "code",
   "execution_count": 87,
   "id": "672774ba",
   "metadata": {},
   "outputs": [
    {
     "data": {
      "text/plain": [
       "{'the': 1,\n",
       " 'to': 2,\n",
       " 'it': 3,\n",
       " 'a': 4,\n",
       " 'and': 5,\n",
       " 'number': 6,\n",
       " 'in': 7,\n",
       " 'of': 8,\n",
       " 'is': 9,\n",
       " 'be': 10}"
      ]
     },
     "execution_count": 87,
     "metadata": {},
     "output_type": "execute_result"
    }
   ],
   "source": [
    "vocab_transformer.vocabulary_"
   ]
  },
  {
   "cell_type": "markdown",
   "id": "95b4a5dc",
   "metadata": {},
   "source": [
    "# 전체 데이터셋 변환"
   ]
  },
  {
   "cell_type": "code",
   "execution_count": 88,
   "id": "3d8214fd",
   "metadata": {},
   "outputs": [],
   "source": [
    "from sklearn.pipeline import Pipeline\n",
    "\n",
    "preprocess_pipeline=Pipeline([\n",
    "    (\"email_to_wordcount\", EmailToWordCounterTransformer()),\n",
    "    (\"wordcount_to_vector\", WordCounterToVectorTransformer()),\n",
    "])\n",
    "\n",
    "X_train_transformed=preprocess_pipeline.fit_transform(X_train)"
   ]
  },
  {
   "cell_type": "markdown",
   "id": "58b1aa2d",
   "metadata": {},
   "source": [
    "# 모델 선택과 훈련"
   ]
  },
  {
   "cell_type": "code",
   "execution_count": 89,
   "id": "88eb64d8",
   "metadata": {},
   "outputs": [],
   "source": [
    "from sklearn.linear_model import LogisticRegression\n",
    "from sklearn.model_selection import cross_val_score\n",
    "\n",
    "log_clf=LogisticRegression(max_iter=1000, random_state=42)\n",
    "score=cross_val_score(log_clf, X_train_transformed, y_train, cv=3)"
   ]
  },
  {
   "cell_type": "code",
   "execution_count": 91,
   "id": "580b7400",
   "metadata": {},
   "outputs": [
    {
     "data": {
      "text/plain": [
       "0.987037037037037"
      ]
     },
     "execution_count": 91,
     "metadata": {},
     "output_type": "execute_result"
    }
   ],
   "source": [
    "#정확도 \n",
    "score.mean()"
   ]
  },
  {
   "cell_type": "code",
   "execution_count": 106,
   "id": "39d45c28",
   "metadata": {},
   "outputs": [
    {
     "data": {
      "text/html": [
       "<style>#sk-container-id-1 {\n",
       "  /* Definition of color scheme common for light and dark mode */\n",
       "  --sklearn-color-text: black;\n",
       "  --sklearn-color-line: gray;\n",
       "  /* Definition of color scheme for unfitted estimators */\n",
       "  --sklearn-color-unfitted-level-0: #fff5e6;\n",
       "  --sklearn-color-unfitted-level-1: #f6e4d2;\n",
       "  --sklearn-color-unfitted-level-2: #ffe0b3;\n",
       "  --sklearn-color-unfitted-level-3: chocolate;\n",
       "  /* Definition of color scheme for fitted estimators */\n",
       "  --sklearn-color-fitted-level-0: #f0f8ff;\n",
       "  --sklearn-color-fitted-level-1: #d4ebff;\n",
       "  --sklearn-color-fitted-level-2: #b3dbfd;\n",
       "  --sklearn-color-fitted-level-3: cornflowerblue;\n",
       "\n",
       "  /* Specific color for light theme */\n",
       "  --sklearn-color-text-on-default-background: var(--sg-text-color, var(--theme-code-foreground, var(--jp-content-font-color1, black)));\n",
       "  --sklearn-color-background: var(--sg-background-color, var(--theme-background, var(--jp-layout-color0, white)));\n",
       "  --sklearn-color-border-box: var(--sg-text-color, var(--theme-code-foreground, var(--jp-content-font-color1, black)));\n",
       "  --sklearn-color-icon: #696969;\n",
       "\n",
       "  @media (prefers-color-scheme: dark) {\n",
       "    /* Redefinition of color scheme for dark theme */\n",
       "    --sklearn-color-text-on-default-background: var(--sg-text-color, var(--theme-code-foreground, var(--jp-content-font-color1, white)));\n",
       "    --sklearn-color-background: var(--sg-background-color, var(--theme-background, var(--jp-layout-color0, #111)));\n",
       "    --sklearn-color-border-box: var(--sg-text-color, var(--theme-code-foreground, var(--jp-content-font-color1, white)));\n",
       "    --sklearn-color-icon: #878787;\n",
       "  }\n",
       "}\n",
       "\n",
       "#sk-container-id-1 {\n",
       "  color: var(--sklearn-color-text);\n",
       "}\n",
       "\n",
       "#sk-container-id-1 pre {\n",
       "  padding: 0;\n",
       "}\n",
       "\n",
       "#sk-container-id-1 input.sk-hidden--visually {\n",
       "  border: 0;\n",
       "  clip: rect(1px 1px 1px 1px);\n",
       "  clip: rect(1px, 1px, 1px, 1px);\n",
       "  height: 1px;\n",
       "  margin: -1px;\n",
       "  overflow: hidden;\n",
       "  padding: 0;\n",
       "  position: absolute;\n",
       "  width: 1px;\n",
       "}\n",
       "\n",
       "#sk-container-id-1 div.sk-dashed-wrapped {\n",
       "  border: 1px dashed var(--sklearn-color-line);\n",
       "  margin: 0 0.4em 0.5em 0.4em;\n",
       "  box-sizing: border-box;\n",
       "  padding-bottom: 0.4em;\n",
       "  background-color: var(--sklearn-color-background);\n",
       "}\n",
       "\n",
       "#sk-container-id-1 div.sk-container {\n",
       "  /* jupyter's `normalize.less` sets `[hidden] { display: none; }`\n",
       "     but bootstrap.min.css set `[hidden] { display: none !important; }`\n",
       "     so we also need the `!important` here to be able to override the\n",
       "     default hidden behavior on the sphinx rendered scikit-learn.org.\n",
       "     See: https://github.com/scikit-learn/scikit-learn/issues/21755 */\n",
       "  display: inline-block !important;\n",
       "  position: relative;\n",
       "}\n",
       "\n",
       "#sk-container-id-1 div.sk-text-repr-fallback {\n",
       "  display: none;\n",
       "}\n",
       "\n",
       "div.sk-parallel-item,\n",
       "div.sk-serial,\n",
       "div.sk-item {\n",
       "  /* draw centered vertical line to link estimators */\n",
       "  background-image: linear-gradient(var(--sklearn-color-text-on-default-background), var(--sklearn-color-text-on-default-background));\n",
       "  background-size: 2px 100%;\n",
       "  background-repeat: no-repeat;\n",
       "  background-position: center center;\n",
       "}\n",
       "\n",
       "/* Parallel-specific style estimator block */\n",
       "\n",
       "#sk-container-id-1 div.sk-parallel-item::after {\n",
       "  content: \"\";\n",
       "  width: 100%;\n",
       "  border-bottom: 2px solid var(--sklearn-color-text-on-default-background);\n",
       "  flex-grow: 1;\n",
       "}\n",
       "\n",
       "#sk-container-id-1 div.sk-parallel {\n",
       "  display: flex;\n",
       "  align-items: stretch;\n",
       "  justify-content: center;\n",
       "  background-color: var(--sklearn-color-background);\n",
       "  position: relative;\n",
       "}\n",
       "\n",
       "#sk-container-id-1 div.sk-parallel-item {\n",
       "  display: flex;\n",
       "  flex-direction: column;\n",
       "}\n",
       "\n",
       "#sk-container-id-1 div.sk-parallel-item:first-child::after {\n",
       "  align-self: flex-end;\n",
       "  width: 50%;\n",
       "}\n",
       "\n",
       "#sk-container-id-1 div.sk-parallel-item:last-child::after {\n",
       "  align-self: flex-start;\n",
       "  width: 50%;\n",
       "}\n",
       "\n",
       "#sk-container-id-1 div.sk-parallel-item:only-child::after {\n",
       "  width: 0;\n",
       "}\n",
       "\n",
       "/* Serial-specific style estimator block */\n",
       "\n",
       "#sk-container-id-1 div.sk-serial {\n",
       "  display: flex;\n",
       "  flex-direction: column;\n",
       "  align-items: center;\n",
       "  background-color: var(--sklearn-color-background);\n",
       "  padding-right: 1em;\n",
       "  padding-left: 1em;\n",
       "}\n",
       "\n",
       "\n",
       "/* Toggleable style: style used for estimator/Pipeline/ColumnTransformer box that is\n",
       "clickable and can be expanded/collapsed.\n",
       "- Pipeline and ColumnTransformer use this feature and define the default style\n",
       "- Estimators will overwrite some part of the style using the `sk-estimator` class\n",
       "*/\n",
       "\n",
       "/* Pipeline and ColumnTransformer style (default) */\n",
       "\n",
       "#sk-container-id-1 div.sk-toggleable {\n",
       "  /* Default theme specific background. It is overwritten whether we have a\n",
       "  specific estimator or a Pipeline/ColumnTransformer */\n",
       "  background-color: var(--sklearn-color-background);\n",
       "}\n",
       "\n",
       "/* Toggleable label */\n",
       "#sk-container-id-1 label.sk-toggleable__label {\n",
       "  cursor: pointer;\n",
       "  display: block;\n",
       "  width: 100%;\n",
       "  margin-bottom: 0;\n",
       "  padding: 0.5em;\n",
       "  box-sizing: border-box;\n",
       "  text-align: center;\n",
       "}\n",
       "\n",
       "#sk-container-id-1 label.sk-toggleable__label-arrow:before {\n",
       "  /* Arrow on the left of the label */\n",
       "  content: \"▸\";\n",
       "  float: left;\n",
       "  margin-right: 0.25em;\n",
       "  color: var(--sklearn-color-icon);\n",
       "}\n",
       "\n",
       "#sk-container-id-1 label.sk-toggleable__label-arrow:hover:before {\n",
       "  color: var(--sklearn-color-text);\n",
       "}\n",
       "\n",
       "/* Toggleable content - dropdown */\n",
       "\n",
       "#sk-container-id-1 div.sk-toggleable__content {\n",
       "  max-height: 0;\n",
       "  max-width: 0;\n",
       "  overflow: hidden;\n",
       "  text-align: left;\n",
       "  /* unfitted */\n",
       "  background-color: var(--sklearn-color-unfitted-level-0);\n",
       "}\n",
       "\n",
       "#sk-container-id-1 div.sk-toggleable__content.fitted {\n",
       "  /* fitted */\n",
       "  background-color: var(--sklearn-color-fitted-level-0);\n",
       "}\n",
       "\n",
       "#sk-container-id-1 div.sk-toggleable__content pre {\n",
       "  margin: 0.2em;\n",
       "  border-radius: 0.25em;\n",
       "  color: var(--sklearn-color-text);\n",
       "  /* unfitted */\n",
       "  background-color: var(--sklearn-color-unfitted-level-0);\n",
       "}\n",
       "\n",
       "#sk-container-id-1 div.sk-toggleable__content.fitted pre {\n",
       "  /* unfitted */\n",
       "  background-color: var(--sklearn-color-fitted-level-0);\n",
       "}\n",
       "\n",
       "#sk-container-id-1 input.sk-toggleable__control:checked~div.sk-toggleable__content {\n",
       "  /* Expand drop-down */\n",
       "  max-height: 200px;\n",
       "  max-width: 100%;\n",
       "  overflow: auto;\n",
       "}\n",
       "\n",
       "#sk-container-id-1 input.sk-toggleable__control:checked~label.sk-toggleable__label-arrow:before {\n",
       "  content: \"▾\";\n",
       "}\n",
       "\n",
       "/* Pipeline/ColumnTransformer-specific style */\n",
       "\n",
       "#sk-container-id-1 div.sk-label input.sk-toggleable__control:checked~label.sk-toggleable__label {\n",
       "  color: var(--sklearn-color-text);\n",
       "  background-color: var(--sklearn-color-unfitted-level-2);\n",
       "}\n",
       "\n",
       "#sk-container-id-1 div.sk-label.fitted input.sk-toggleable__control:checked~label.sk-toggleable__label {\n",
       "  background-color: var(--sklearn-color-fitted-level-2);\n",
       "}\n",
       "\n",
       "/* Estimator-specific style */\n",
       "\n",
       "/* Colorize estimator box */\n",
       "#sk-container-id-1 div.sk-estimator input.sk-toggleable__control:checked~label.sk-toggleable__label {\n",
       "  /* unfitted */\n",
       "  background-color: var(--sklearn-color-unfitted-level-2);\n",
       "}\n",
       "\n",
       "#sk-container-id-1 div.sk-estimator.fitted input.sk-toggleable__control:checked~label.sk-toggleable__label {\n",
       "  /* fitted */\n",
       "  background-color: var(--sklearn-color-fitted-level-2);\n",
       "}\n",
       "\n",
       "#sk-container-id-1 div.sk-label label.sk-toggleable__label,\n",
       "#sk-container-id-1 div.sk-label label {\n",
       "  /* The background is the default theme color */\n",
       "  color: var(--sklearn-color-text-on-default-background);\n",
       "}\n",
       "\n",
       "/* On hover, darken the color of the background */\n",
       "#sk-container-id-1 div.sk-label:hover label.sk-toggleable__label {\n",
       "  color: var(--sklearn-color-text);\n",
       "  background-color: var(--sklearn-color-unfitted-level-2);\n",
       "}\n",
       "\n",
       "/* Label box, darken color on hover, fitted */\n",
       "#sk-container-id-1 div.sk-label.fitted:hover label.sk-toggleable__label.fitted {\n",
       "  color: var(--sklearn-color-text);\n",
       "  background-color: var(--sklearn-color-fitted-level-2);\n",
       "}\n",
       "\n",
       "/* Estimator label */\n",
       "\n",
       "#sk-container-id-1 div.sk-label label {\n",
       "  font-family: monospace;\n",
       "  font-weight: bold;\n",
       "  display: inline-block;\n",
       "  line-height: 1.2em;\n",
       "}\n",
       "\n",
       "#sk-container-id-1 div.sk-label-container {\n",
       "  text-align: center;\n",
       "}\n",
       "\n",
       "/* Estimator-specific */\n",
       "#sk-container-id-1 div.sk-estimator {\n",
       "  font-family: monospace;\n",
       "  border: 1px dotted var(--sklearn-color-border-box);\n",
       "  border-radius: 0.25em;\n",
       "  box-sizing: border-box;\n",
       "  margin-bottom: 0.5em;\n",
       "  /* unfitted */\n",
       "  background-color: var(--sklearn-color-unfitted-level-0);\n",
       "}\n",
       "\n",
       "#sk-container-id-1 div.sk-estimator.fitted {\n",
       "  /* fitted */\n",
       "  background-color: var(--sklearn-color-fitted-level-0);\n",
       "}\n",
       "\n",
       "/* on hover */\n",
       "#sk-container-id-1 div.sk-estimator:hover {\n",
       "  /* unfitted */\n",
       "  background-color: var(--sklearn-color-unfitted-level-2);\n",
       "}\n",
       "\n",
       "#sk-container-id-1 div.sk-estimator.fitted:hover {\n",
       "  /* fitted */\n",
       "  background-color: var(--sklearn-color-fitted-level-2);\n",
       "}\n",
       "\n",
       "/* Specification for estimator info (e.g. \"i\" and \"?\") */\n",
       "\n",
       "/* Common style for \"i\" and \"?\" */\n",
       "\n",
       ".sk-estimator-doc-link,\n",
       "a:link.sk-estimator-doc-link,\n",
       "a:visited.sk-estimator-doc-link {\n",
       "  float: right;\n",
       "  font-size: smaller;\n",
       "  line-height: 1em;\n",
       "  font-family: monospace;\n",
       "  background-color: var(--sklearn-color-background);\n",
       "  border-radius: 1em;\n",
       "  height: 1em;\n",
       "  width: 1em;\n",
       "  text-decoration: none !important;\n",
       "  margin-left: 1ex;\n",
       "  /* unfitted */\n",
       "  border: var(--sklearn-color-unfitted-level-1) 1pt solid;\n",
       "  color: var(--sklearn-color-unfitted-level-1);\n",
       "}\n",
       "\n",
       ".sk-estimator-doc-link.fitted,\n",
       "a:link.sk-estimator-doc-link.fitted,\n",
       "a:visited.sk-estimator-doc-link.fitted {\n",
       "  /* fitted */\n",
       "  border: var(--sklearn-color-fitted-level-1) 1pt solid;\n",
       "  color: var(--sklearn-color-fitted-level-1);\n",
       "}\n",
       "\n",
       "/* On hover */\n",
       "div.sk-estimator:hover .sk-estimator-doc-link:hover,\n",
       ".sk-estimator-doc-link:hover,\n",
       "div.sk-label-container:hover .sk-estimator-doc-link:hover,\n",
       ".sk-estimator-doc-link:hover {\n",
       "  /* unfitted */\n",
       "  background-color: var(--sklearn-color-unfitted-level-3);\n",
       "  color: var(--sklearn-color-background);\n",
       "  text-decoration: none;\n",
       "}\n",
       "\n",
       "div.sk-estimator.fitted:hover .sk-estimator-doc-link.fitted:hover,\n",
       ".sk-estimator-doc-link.fitted:hover,\n",
       "div.sk-label-container:hover .sk-estimator-doc-link.fitted:hover,\n",
       ".sk-estimator-doc-link.fitted:hover {\n",
       "  /* fitted */\n",
       "  background-color: var(--sklearn-color-fitted-level-3);\n",
       "  color: var(--sklearn-color-background);\n",
       "  text-decoration: none;\n",
       "}\n",
       "\n",
       "/* Span, style for the box shown on hovering the info icon */\n",
       ".sk-estimator-doc-link span {\n",
       "  display: none;\n",
       "  z-index: 9999;\n",
       "  position: relative;\n",
       "  font-weight: normal;\n",
       "  right: .2ex;\n",
       "  padding: .5ex;\n",
       "  margin: .5ex;\n",
       "  width: min-content;\n",
       "  min-width: 20ex;\n",
       "  max-width: 50ex;\n",
       "  color: var(--sklearn-color-text);\n",
       "  box-shadow: 2pt 2pt 4pt #999;\n",
       "  /* unfitted */\n",
       "  background: var(--sklearn-color-unfitted-level-0);\n",
       "  border: .5pt solid var(--sklearn-color-unfitted-level-3);\n",
       "}\n",
       "\n",
       ".sk-estimator-doc-link.fitted span {\n",
       "  /* fitted */\n",
       "  background: var(--sklearn-color-fitted-level-0);\n",
       "  border: var(--sklearn-color-fitted-level-3);\n",
       "}\n",
       "\n",
       ".sk-estimator-doc-link:hover span {\n",
       "  display: block;\n",
       "}\n",
       "\n",
       "/* \"?\"-specific style due to the `<a>` HTML tag */\n",
       "\n",
       "#sk-container-id-1 a.estimator_doc_link {\n",
       "  float: right;\n",
       "  font-size: 1rem;\n",
       "  line-height: 1em;\n",
       "  font-family: monospace;\n",
       "  background-color: var(--sklearn-color-background);\n",
       "  border-radius: 1rem;\n",
       "  height: 1rem;\n",
       "  width: 1rem;\n",
       "  text-decoration: none;\n",
       "  /* unfitted */\n",
       "  color: var(--sklearn-color-unfitted-level-1);\n",
       "  border: var(--sklearn-color-unfitted-level-1) 1pt solid;\n",
       "}\n",
       "\n",
       "#sk-container-id-1 a.estimator_doc_link.fitted {\n",
       "  /* fitted */\n",
       "  border: var(--sklearn-color-fitted-level-1) 1pt solid;\n",
       "  color: var(--sklearn-color-fitted-level-1);\n",
       "}\n",
       "\n",
       "/* On hover */\n",
       "#sk-container-id-1 a.estimator_doc_link:hover {\n",
       "  /* unfitted */\n",
       "  background-color: var(--sklearn-color-unfitted-level-3);\n",
       "  color: var(--sklearn-color-background);\n",
       "  text-decoration: none;\n",
       "}\n",
       "\n",
       "#sk-container-id-1 a.estimator_doc_link.fitted:hover {\n",
       "  /* fitted */\n",
       "  background-color: var(--sklearn-color-fitted-level-3);\n",
       "}\n",
       "</style><div id=\"sk-container-id-1\" class=\"sk-top-container\"><div class=\"sk-text-repr-fallback\"><pre>Pipeline(steps=[(&#x27;pipeline&#x27;,\n",
       "                 Pipeline(steps=[(&#x27;email_to_wordcount&#x27;,\n",
       "                                  EmailToWordCounterTransformer()),\n",
       "                                 (&#x27;wordcount_to_vector&#x27;,\n",
       "                                  WordCounterToVectorTransformer())])),\n",
       "                (&#x27;decisiontreeregressor&#x27;,\n",
       "                 DecisionTreeRegressor(random_state=42))])</pre><b>In a Jupyter environment, please rerun this cell to show the HTML representation or trust the notebook. <br />On GitHub, the HTML representation is unable to render, please try loading this page with nbviewer.org.</b></div><div class=\"sk-container\" hidden><div class=\"sk-item sk-dashed-wrapped\"><div class=\"sk-label-container\"><div class=\"sk-label fitted sk-toggleable\"><input class=\"sk-toggleable__control sk-hidden--visually\" id=\"sk-estimator-id-1\" type=\"checkbox\" ><label for=\"sk-estimator-id-1\" class=\"sk-toggleable__label fitted sk-toggleable__label-arrow fitted\">&nbsp;&nbsp;Pipeline<a class=\"sk-estimator-doc-link fitted\" rel=\"noreferrer\" target=\"_blank\" href=\"https://scikit-learn.org/1.4/modules/generated/sklearn.pipeline.Pipeline.html\">?<span>Documentation for Pipeline</span></a><span class=\"sk-estimator-doc-link fitted\">i<span>Fitted</span></span></label><div class=\"sk-toggleable__content fitted\"><pre>Pipeline(steps=[(&#x27;pipeline&#x27;,\n",
       "                 Pipeline(steps=[(&#x27;email_to_wordcount&#x27;,\n",
       "                                  EmailToWordCounterTransformer()),\n",
       "                                 (&#x27;wordcount_to_vector&#x27;,\n",
       "                                  WordCounterToVectorTransformer())])),\n",
       "                (&#x27;decisiontreeregressor&#x27;,\n",
       "                 DecisionTreeRegressor(random_state=42))])</pre></div> </div></div><div class=\"sk-serial\"><div class=\"sk-item\"><div class=\"sk-label-container\"><div class=\"sk-label fitted sk-toggleable\"><input class=\"sk-toggleable__control sk-hidden--visually\" id=\"sk-estimator-id-2\" type=\"checkbox\" ><label for=\"sk-estimator-id-2\" class=\"sk-toggleable__label fitted sk-toggleable__label-arrow fitted\">&nbsp;pipeline: Pipeline<a class=\"sk-estimator-doc-link fitted\" rel=\"noreferrer\" target=\"_blank\" href=\"https://scikit-learn.org/1.4/modules/generated/sklearn.pipeline.Pipeline.html\">?<span>Documentation for pipeline: Pipeline</span></a></label><div class=\"sk-toggleable__content fitted\"><pre>Pipeline(steps=[(&#x27;email_to_wordcount&#x27;, EmailToWordCounterTransformer()),\n",
       "                (&#x27;wordcount_to_vector&#x27;, WordCounterToVectorTransformer())])</pre></div> </div></div><div class=\"sk-serial\"><div class=\"sk-item\"><div class=\"sk-estimator fitted sk-toggleable\"><input class=\"sk-toggleable__control sk-hidden--visually\" id=\"sk-estimator-id-3\" type=\"checkbox\" ><label for=\"sk-estimator-id-3\" class=\"sk-toggleable__label fitted sk-toggleable__label-arrow fitted\">EmailToWordCounterTransformer</label><div class=\"sk-toggleable__content fitted\"><pre>EmailToWordCounterTransformer()</pre></div> </div></div><div class=\"sk-item\"><div class=\"sk-estimator fitted sk-toggleable\"><input class=\"sk-toggleable__control sk-hidden--visually\" id=\"sk-estimator-id-4\" type=\"checkbox\" ><label for=\"sk-estimator-id-4\" class=\"sk-toggleable__label fitted sk-toggleable__label-arrow fitted\">WordCounterToVectorTransformer</label><div class=\"sk-toggleable__content fitted\"><pre>WordCounterToVectorTransformer()</pre></div> </div></div></div></div><div class=\"sk-item\"><div class=\"sk-estimator fitted sk-toggleable\"><input class=\"sk-toggleable__control sk-hidden--visually\" id=\"sk-estimator-id-5\" type=\"checkbox\" ><label for=\"sk-estimator-id-5\" class=\"sk-toggleable__label fitted sk-toggleable__label-arrow fitted\">&nbsp;DecisionTreeRegressor<a class=\"sk-estimator-doc-link fitted\" rel=\"noreferrer\" target=\"_blank\" href=\"https://scikit-learn.org/1.4/modules/generated/sklearn.tree.DecisionTreeRegressor.html\">?<span>Documentation for DecisionTreeRegressor</span></a></label><div class=\"sk-toggleable__content fitted\"><pre>DecisionTreeRegressor(random_state=42)</pre></div> </div></div></div></div></div></div>"
      ],
      "text/plain": [
       "Pipeline(steps=[('pipeline',\n",
       "                 Pipeline(steps=[('email_to_wordcount',\n",
       "                                  EmailToWordCounterTransformer()),\n",
       "                                 ('wordcount_to_vector',\n",
       "                                  WordCounterToVectorTransformer())])),\n",
       "                ('decisiontreeregressor',\n",
       "                 DecisionTreeRegressor(random_state=42))])"
      ]
     },
     "execution_count": 106,
     "metadata": {},
     "output_type": "execute_result"
    }
   ],
   "source": [
    "from sklearn.tree import DecisionTreeRegressor\n",
    "from sklearn.pipeline import make_pipeline\n",
    "\n",
    "tree_reg=make_pipeline(preprocess_pipeline, DecisionTreeRegressor(random_state=42))\n",
    "tree_reg.fit(X_train,y_train)"
   ]
  },
  {
   "cell_type": "code",
   "execution_count": 108,
   "id": "b60eb790",
   "metadata": {},
   "outputs": [
    {
     "data": {
      "text/plain": [
       "0.0"
      ]
     },
     "execution_count": 108,
     "metadata": {},
     "output_type": "execute_result"
    }
   ],
   "source": [
    "from sklearn.metrics import root_mean_squared_error\n",
    "\n",
    "tree_pred=tree_reg.predict(X_train)\n",
    "tree_rmse=root_mean_squared_error(y_train, tree_pred)\n",
    "\n",
    "tree_rmse"
   ]
  },
  {
   "cell_type": "markdown",
   "id": "5d9ab6dc",
   "metadata": {},
   "source": [
    "# 정확도 평가하기"
   ]
  },
  {
   "cell_type": "code",
   "execution_count": 103,
   "id": "806eff39",
   "metadata": {},
   "outputs": [],
   "source": [
    "from sklearn.metrics import precision_score, recall_score\n",
    "\n",
    "X_test_transformed=preprocess_pipeline.transform(X_test)\n",
    "\n",
    "log_clf=LogisticRegression(max_iter=1000,random_state=42)\n",
    "log_clf.fit(X_train_transformed, y_train)\n",
    "\n",
    "y_pred=log_clf.predict(X_test_transformed)"
   ]
  },
  {
   "cell_type": "code",
   "execution_count": 104,
   "id": "0cc2fdb3",
   "metadata": {},
   "outputs": [
    {
     "name": "stdout",
     "output_type": "stream",
     "text": [
      "Precision: 96.08%\n",
      "Recall: 98.00%\n"
     ]
    }
   ],
   "source": [
    "print(f\"Precision: {precision_score(y_test, y_pred):.2%}\")\n",
    "print(f\"Recall: {recall_score(y_test, y_pred):.2%}\")"
   ]
  }
 ],
 "metadata": {
  "kernelspec": {
   "display_name": "Python 3 (ipykernel)",
   "language": "python",
   "name": "python3"
  },
  "language_info": {
   "codemirror_mode": {
    "name": "ipython",
    "version": 3
   },
   "file_extension": ".py",
   "mimetype": "text/x-python",
   "name": "python",
   "nbconvert_exporter": "python",
   "pygments_lexer": "ipython3",
   "version": "3.9.7"
  }
 },
 "nbformat": 4,
 "nbformat_minor": 5
}
