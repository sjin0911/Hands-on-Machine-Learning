{
 "cells": [
  {
   "cell_type": "markdown",
   "id": "1392b597",
   "metadata": {},
   "source": [
    "# 주성분 분석"
   ]
  },
  {
   "cell_type": "code",
   "execution_count": 9,
   "id": "a27c8e4b",
   "metadata": {},
   "outputs": [],
   "source": [
    "#3D 훈련 세트의 주성분을 구하고 두개의 PC를 정의하는 단위벡터 추출\n",
    "import numpy as np\n",
    "from scipy.spatial.transform import Rotation\n",
    "\n",
    "m=60\n",
    "X=np.zeros((m,3)) #3D 데이터\n",
    "np.random.seed(42)\n",
    "angles=(np.random.rand(m)**3+0.5)*2+np.pi #고르지 않은 분포\n",
    "X[:,0],X[:,1]=np.cos(angles), np.sin(angles)*0.5 #타원형\n",
    "X+=0.28*np.random.randn(m,3) #노이즈 추가\n",
    "X=Rotation.from_rotvec([np.pi/29, -np.pi/20, np.pi/4]).apply(X)\n",
    "X+=[0.2, 0, 0.2]"
   ]
  },
  {
   "cell_type": "code",
   "execution_count": 10,
   "id": "9711d53e",
   "metadata": {},
   "outputs": [],
   "source": [
    "X_centered=X-X.mean(axis=0)\n",
    "U, s, Vt=np.linalg.svd(X_centered)\n",
    "c1=Vt[0]\n",
    "c2=Vt[1]"
   ]
  },
  {
   "cell_type": "code",
   "execution_count": null,
   "id": "da0a8c69",
   "metadata": {},
   "outputs": [],
   "source": []
  }
 ],
 "metadata": {
  "kernelspec": {
   "display_name": "Python 3 (ipykernel)",
   "language": "python",
   "name": "python3"
  },
  "language_info": {
   "codemirror_mode": {
    "name": "ipython",
    "version": 3
   },
   "file_extension": ".py",
   "mimetype": "text/x-python",
   "name": "python",
   "nbconvert_exporter": "python",
   "pygments_lexer": "ipython3",
   "version": "3.9.19"
  }
 },
 "nbformat": 4,
 "nbformat_minor": 5
}
