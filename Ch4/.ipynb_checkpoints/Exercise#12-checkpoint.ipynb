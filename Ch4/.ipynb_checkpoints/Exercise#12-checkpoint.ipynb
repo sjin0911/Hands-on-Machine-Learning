{
 "cells": [
  {
   "cell_type": "markdown",
   "id": "5a851340",
   "metadata": {},
   "source": [
    "넘파이만 사용하여 조기 종료를 사용한 배치 경사 하강법으로 소프트맥스 회귀를 구현"
   ]
  },
  {
   "cell_type": "code",
   "execution_count": 255,
   "id": "f454a9f2",
   "metadata": {},
   "outputs": [],
   "source": [
    "import numpy as np"
   ]
  },
  {
   "cell_type": "code",
   "execution_count": 256,
   "id": "a4e3dd68",
   "metadata": {},
   "outputs": [
    {
     "data": {
      "text/plain": [
       "['data',\n",
       " 'target',\n",
       " 'frame',\n",
       " 'target_names',\n",
       " 'DESCR',\n",
       " 'feature_names',\n",
       " 'filename',\n",
       " 'data_module']"
      ]
     },
     "execution_count": 256,
     "metadata": {},
     "output_type": "execute_result"
    }
   ],
   "source": [
    "#꽃잎의 너비를 기반으로 Iris-Versicolor 종을 감지\n",
    "from sklearn.datasets import load_iris\n",
    "\n",
    "iris=load_iris(as_frame=True)\n",
    "list(iris)"
   ]
  },
  {
   "cell_type": "code",
   "execution_count": 257,
   "id": "5cc3e10c",
   "metadata": {},
   "outputs": [
    {
     "data": {
      "text/html": [
       "<div>\n",
       "<style scoped>\n",
       "    .dataframe tbody tr th:only-of-type {\n",
       "        vertical-align: middle;\n",
       "    }\n",
       "\n",
       "    .dataframe tbody tr th {\n",
       "        vertical-align: top;\n",
       "    }\n",
       "\n",
       "    .dataframe thead th {\n",
       "        text-align: right;\n",
       "    }\n",
       "</style>\n",
       "<table border=\"1\" class=\"dataframe\">\n",
       "  <thead>\n",
       "    <tr style=\"text-align: right;\">\n",
       "      <th></th>\n",
       "      <th>sepal length (cm)</th>\n",
       "      <th>sepal width (cm)</th>\n",
       "      <th>petal length (cm)</th>\n",
       "      <th>petal width (cm)</th>\n",
       "    </tr>\n",
       "  </thead>\n",
       "  <tbody>\n",
       "    <tr>\n",
       "      <th>0</th>\n",
       "      <td>5.1</td>\n",
       "      <td>3.5</td>\n",
       "      <td>1.4</td>\n",
       "      <td>0.2</td>\n",
       "    </tr>\n",
       "    <tr>\n",
       "      <th>1</th>\n",
       "      <td>4.9</td>\n",
       "      <td>3.0</td>\n",
       "      <td>1.4</td>\n",
       "      <td>0.2</td>\n",
       "    </tr>\n",
       "    <tr>\n",
       "      <th>2</th>\n",
       "      <td>4.7</td>\n",
       "      <td>3.2</td>\n",
       "      <td>1.3</td>\n",
       "      <td>0.2</td>\n",
       "    </tr>\n",
       "    <tr>\n",
       "      <th>3</th>\n",
       "      <td>4.6</td>\n",
       "      <td>3.1</td>\n",
       "      <td>1.5</td>\n",
       "      <td>0.2</td>\n",
       "    </tr>\n",
       "    <tr>\n",
       "      <th>4</th>\n",
       "      <td>5.0</td>\n",
       "      <td>3.6</td>\n",
       "      <td>1.4</td>\n",
       "      <td>0.2</td>\n",
       "    </tr>\n",
       "  </tbody>\n",
       "</table>\n",
       "</div>"
      ],
      "text/plain": [
       "   sepal length (cm)  sepal width (cm)  petal length (cm)  petal width (cm)\n",
       "0                5.1               3.5                1.4               0.2\n",
       "1                4.9               3.0                1.4               0.2\n",
       "2                4.7               3.2                1.3               0.2\n",
       "3                4.6               3.1                1.5               0.2\n",
       "4                5.0               3.6                1.4               0.2"
      ]
     },
     "execution_count": 257,
     "metadata": {},
     "output_type": "execute_result"
    }
   ],
   "source": [
    "iris.data.head()"
   ]
  },
  {
   "cell_type": "code",
   "execution_count": 258,
   "id": "ef70f14d",
   "metadata": {},
   "outputs": [
    {
     "data": {
      "text/plain": [
       "0    0\n",
       "1    0\n",
       "2    0\n",
       "3    0\n",
       "4    0\n",
       "Name: target, dtype: int64"
      ]
     },
     "execution_count": 258,
     "metadata": {},
     "output_type": "execute_result"
    }
   ],
   "source": [
    "iris.target.head()"
   ]
  },
  {
   "cell_type": "code",
   "execution_count": 259,
   "id": "e9ba5438",
   "metadata": {},
   "outputs": [
    {
     "data": {
      "text/plain": [
       "array(['setosa', 'versicolor', 'virginica'], dtype='<U10')"
      ]
     },
     "execution_count": 259,
     "metadata": {},
     "output_type": "execute_result"
    }
   ],
   "source": [
    "iris.target_names"
   ]
  },
  {
   "cell_type": "code",
   "execution_count": 260,
   "id": "b8ed7c2d",
   "metadata": {},
   "outputs": [],
   "source": [
    "X=iris.data[[\"petal length (cm)\",\"petal width (cm)\"]].values\n",
    "y=iris[\"target\"].values"
   ]
  },
  {
   "cell_type": "code",
   "execution_count": 261,
   "id": "a2bd3bd5",
   "metadata": {},
   "outputs": [],
   "source": [
    "#모든 샘플에 대한 편향 항 추가\n",
    "X_with_bias=np.c_[np.ones(len(X)),X]"
   ]
  },
  {
   "cell_type": "code",
   "execution_count": 262,
   "id": "f5f0b596",
   "metadata": {},
   "outputs": [],
   "source": [
    "#train_test_split을 사용하지 않고 샘플 분리\n",
    "test_ratio=0.2\n",
    "validation_ratio=0.2\n",
    "total_size=len(X_with_bias)\n",
    "\n",
    "test_size=int(total_size*test_ratio)\n",
    "validation_size=int(total_size*validation_ratio)\n",
    "train_size=total_size-test_size-validation_size\n",
    "\n",
    "np.random.seed(42)\n",
    "rnd_indices=np.random.permutation(total_size)\n",
    "\n",
    "X_train=X_with_bias[rnd_indices[:train_size]]\n",
    "y_train=y[rnd_indices[:train_size]]\n",
    "X_valid=X_with_bias[rnd_indices[train_size:-test_size]]\n",
    "y_valid=y[rnd_indices[train_size:-test_size]]\n",
    "X_test=X_with_bias[rnd_indices[-test_size:]]\n",
    "y_test=y[rnd_indices[-test_size:]]"
   ]
  },
  {
   "cell_type": "code",
   "execution_count": 263,
   "id": "4f5114d9",
   "metadata": {},
   "outputs": [],
   "source": [
    "#클래스 인덱스 벡터를 각 샘플에 대한 원-핫 벡터를 포함하는 행렬로 변환\n",
    "y_train_one_hot=np.diag(np.ones(y_train.max()+1))[y_train]\n",
    "y_valid_one_hot=np.diag(np.ones(y_valid.max()+1))[y_valid]\n",
    "y_test_one_hot=np.diag(np.ones(y_test.max()+1))[y_test]"
   ]
  },
  {
   "cell_type": "markdown",
   "id": "562a0bae",
   "metadata": {},
   "source": [
    "### 소프트맥스 회귀"
   ]
  },
  {
   "cell_type": "code",
   "execution_count": 264,
   "id": "9530f588",
   "metadata": {},
   "outputs": [],
   "source": [
    "def softmax(logits):\n",
    "    exps=np.exp(logits)\n",
    "    exp_sums=exps.sum(axis=1, keepdims=True)\n",
    "    return exps/exp_sums"
   ]
  },
  {
   "cell_type": "markdown",
   "id": "b709a52f",
   "metadata": {},
   "source": [
    "### 배치 경사 하강법"
   ]
  },
  {
   "cell_type": "code",
   "execution_count": 276,
   "id": "e3185cca",
   "metadata": {},
   "outputs": [],
   "source": [
    "#내려가는 스텝의 크기를 결정하는 방법\n",
    "\n",
    "n_inputs=X_train.shape[1]\n",
    "n_outputs=len(np.unique(y_train))\n",
    "\n",
    "eta=0.5 #학습률\n",
    "n_epochs=5001\n",
    "m=len(X_train) #샘플 수\n",
    "epsilon=1e-5\n",
    "\n",
    "np.random.seed(42)\n",
    "theta=np.random.randn(n_inputs,n_outputs) #모델 파리미터 랜덤 초기화"
   ]
  },
  {
   "cell_type": "code",
   "execution_count": 266,
   "id": "9ee14c1b",
   "metadata": {},
   "outputs": [
    {
     "name": "stdout",
     "output_type": "stream",
     "text": [
      "0 7.589413698235447\n",
      "1000 0.23722564547268396\n",
      "2000 0.20299776800079783\n",
      "3000 0.184945459940424\n",
      "4000 0.17234190163896407\n",
      "5000 0.16251946024698435\n"
     ]
    }
   ],
   "source": [
    "#훈련 세트를 한 번 반복하는 것을 epoch라고 함\n",
    "for epoch in range(n_epochs):\n",
    "    logits=X_train@theta\n",
    "    y_proba=softmax(logits)\n",
    "    \n",
    "    #???\n",
    "    if epoch%1000==0:\n",
    "        y_proba_valid=softmax(X_valid@theta)\n",
    "        xentropy_losses=-(y_valid_one_hot*np.log(y_proba_valid+epsilon))\n",
    "        print(epoch, xentropy_losses.sum(axis=1).mean())\n",
    "        \n",
    "    error=y_proba-y_train_one_hot    \n",
    "    gradients=1/m*X_train.T@error\n",
    "    theta=theta-eta*gradients"
   ]
  },
  {
   "cell_type": "code",
   "execution_count": 267,
   "id": "8d32e8e8",
   "metadata": {},
   "outputs": [
    {
     "data": {
      "text/plain": [
       "array([[ 14.36543757,   3.45861431, -16.81791349],\n",
       "       [ -2.26955728,   0.93607207,   2.38822474],\n",
       "       [ -4.24164817,  -0.84400575,   6.96282708]])"
      ]
     },
     "execution_count": 267,
     "metadata": {},
     "output_type": "execute_result"
    }
   ],
   "source": [
    "theta"
   ]
  },
  {
   "cell_type": "code",
   "execution_count": 268,
   "id": "bb9ad32d",
   "metadata": {},
   "outputs": [
    {
     "data": {
      "text/plain": [
       "0.9333333333333333"
      ]
     },
     "execution_count": 268,
     "metadata": {},
     "output_type": "execute_result"
    }
   ],
   "source": [
    "logits=X_valid@theta\n",
    "Y_proba=softmax(logits)\n",
    "y_predict=Y_proba.argmax(axis=1)\n",
    "\n",
    "accuracy_score=(y_predict==y_valid).mean()\n",
    "accuracy_score"
   ]
  },
  {
   "cell_type": "code",
   "execution_count": 277,
   "id": "33a9ad37",
   "metadata": {},
   "outputs": [
    {
     "name": "stdout",
     "output_type": "stream",
     "text": [
      "0 7.6181\n",
      "1000 0.3435\n",
      "2000 0.2753\n",
      "3000 0.2746\n",
      "4000 0.2743\n",
      "5000 0.2741\n"
     ]
    }
   ],
   "source": [
    "#l_2 정규화를 추가해 손실에 l_2 패널티가 추가되고 그레이디언트가 적절한 추가항을 가짐\n",
    "alpha=0.01\n",
    "\n",
    "for epoch in range(n_epochs):\n",
    "    logits=X_train@theta\n",
    "    y_proba=softmax(logits)\n",
    "    \n",
    "    #???\n",
    "    if epoch%1000==0:\n",
    "        y_proba_valid=softmax(X_valid@theta)\n",
    "        xentropy_losses=-(y_valid_one_hot*np.log(y_proba_valid+epsilon))\n",
    "        l2_loss=1/2*(theta[1:]**2).sum()\n",
    "        total_loss=xentropy_losses.sum(axis=1).mean()+alpha*l2_loss\n",
    "        print(epoch, total_loss.round(4))\n",
    "        \n",
    "    error=y_proba-y_train_one_hot    \n",
    "    gradients=1/m*X_train.T@error\n",
    "    gradients+=np.r_[np.zeros([1,n_outputs]),alpha*theta[1:]]\n",
    "    theta=theta-eta*gradients"
   ]
  },
  {
   "cell_type": "code",
   "execution_count": 278,
   "id": "2f538510",
   "metadata": {},
   "outputs": [
    {
     "data": {
      "text/plain": [
       "0.9333333333333333"
      ]
     },
     "execution_count": 278,
     "metadata": {},
     "output_type": "execute_result"
    }
   ],
   "source": [
    "logits=X_valid@theta\n",
    "Y_proba=softmax(logits)\n",
    "y_predict=Y_proba.argmax(axis=1)\n",
    "\n",
    "accuracy_score=(y_predict==y_valid).mean()\n",
    "accuracy_score"
   ]
  },
  {
   "cell_type": "markdown",
   "id": "10d184d8",
   "metadata": {},
   "source": [
    "### 조기종료"
   ]
  },
  {
   "cell_type": "code",
   "execution_count": 279,
   "id": "1861b10c",
   "metadata": {},
   "outputs": [
    {
     "name": "stdout",
     "output_type": "stream",
     "text": [
      "0 7.6181\n",
      "1 1.2429\n",
      "2 1.276 Ended\n"
     ]
    }
   ],
   "source": [
    "#학습을 중지하지 않고 학습 후 최상위 모델로 되돌리는 코드\n",
    "eta=0.5\n",
    "n_epochs=50_001\n",
    "m=len(X_train)\n",
    "epsilon=1e-5\n",
    "C=100 #규제 하이퍼파라미터\n",
    "best_loss=np.infty\n",
    "\n",
    "np.random.seed(42)\n",
    "theta=np.random.randn(n_inputs,n_outputs)\n",
    "\n",
    "for epoch in range(n_epochs):\n",
    "    logits=X_train@theta\n",
    "    y_proba=softmax(logits)\n",
    "    y_proba_valid=softmax(X_valid@theta)\n",
    "    xentropy_losses=-(y_valid_one_hot*np.log(y_proba_valid+epsilon))\n",
    "    l2_loss=1/2*(theta[1:]**2).sum()\n",
    "    total_loss=xentropy_losses.sum(axis=1).mean()+1/C*l2_loss\n",
    "    if epoch % 1000==0:\n",
    "        print(epoch,total_loss.round(4))\n",
    "    if total_loss<best_loss:\n",
    "        best_loss=total_loss\n",
    "    else:\n",
    "        print(epoch-1,best_loss.round(4))\n",
    "        print(epoch, total_loss.round(4),\"Ended\")\n",
    "        break\n",
    "    error=y_proba-y_train_one_hot\n",
    "    gradients=1/m*X_train.T@error\n",
    "    gradients+=np.r_[np.zeros([1,n_outputs]),1/C*theta[1:]]\n",
    "    theta=theta-eta*gradients"
   ]
  },
  {
   "cell_type": "code",
   "execution_count": 281,
   "id": "8f896df5",
   "metadata": {},
   "outputs": [
    {
     "data": {
      "text/plain": [
       "0.4"
      ]
     },
     "execution_count": 281,
     "metadata": {},
     "output_type": "execute_result"
    }
   ],
   "source": [
    "logits=X_valid@theta\n",
    "Y_proba=softmax(logits)\n",
    "y_predict=Y_proba.argmax(axis=1)\n",
    "\n",
    "accuracy_score=(y_predict==y_valid).mean()\n",
    "accuracy_score"
   ]
  },
  {
   "cell_type": "code",
   "execution_count": null,
   "id": "4b0511d3",
   "metadata": {},
   "outputs": [],
   "source": []
  }
 ],
 "metadata": {
  "kernelspec": {
   "display_name": "Python 3 (ipykernel)",
   "language": "python",
   "name": "python3"
  },
  "language_info": {
   "codemirror_mode": {
    "name": "ipython",
    "version": 3
   },
   "file_extension": ".py",
   "mimetype": "text/x-python",
   "name": "python",
   "nbconvert_exporter": "python",
   "pygments_lexer": "ipython3",
   "version": "3.9.7"
  }
 },
 "nbformat": 4,
 "nbformat_minor": 5
}
