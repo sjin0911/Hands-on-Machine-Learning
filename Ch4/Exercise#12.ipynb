{
 "cells": [
  {
   "cell_type": "markdown",
   "id": "5a851340",
   "metadata": {},
   "source": [
    "넘파이만 사용하여 조기 종료를 사용한 배치 경사 하강법으로 소프트맥스 회귀를 구현"
   ]
  },
  {
   "cell_type": "code",
   "execution_count": 1,
   "id": "f454a9f2",
   "metadata": {},
   "outputs": [],
   "source": [
    "import numpy as np"
   ]
  },
  {
   "cell_type": "code",
   "execution_count": 2,
   "id": "a4e3dd68",
   "metadata": {},
   "outputs": [
    {
     "data": {
      "text/plain": [
       "['data',\n",
       " 'target',\n",
       " 'frame',\n",
       " 'target_names',\n",
       " 'DESCR',\n",
       " 'feature_names',\n",
       " 'filename',\n",
       " 'data_module']"
      ]
     },
     "execution_count": 2,
     "metadata": {},
     "output_type": "execute_result"
    }
   ],
   "source": [
    "#꽃잎의 너비를 기반으로 Iris-Versicolor 종을 감지\n",
    "from sklearn.datasets import load_iris\n",
    "\n",
    "iris=load_iris(as_frame=True)\n",
    "list(iris)"
   ]
  },
  {
   "cell_type": "code",
   "execution_count": null,
   "id": "e3185cca",
   "metadata": {},
   "outputs": [],
   "source": [
    "#내려가는 스텝의 크기를 결정하는 방법\n",
    "\n",
    "eta=0.1 #학습률\n",
    "n_epochs=1000\n",
    "m=len(X_b) #샘플 수 \n",
    "\n",
    "np.random.seed(42)\n",
    "theta=np.random.randn(2,1) #모델 파리미터 랜덤 초기화\n",
    "\n",
    "#훈련 세트를 한 번 반복하는 것을 epoch라고 함\n",
    "for epoch in range(n_epochs):\n",
    "    gradients=2/m*X_b.T@(X_b@theta-y)\n",
    "    theta=theta-eta*gradients"
   ]
  },
  {
   "cell_type": "code",
   "execution_count": null,
   "id": "64f969da",
   "metadata": {},
   "outputs": [],
   "source": []
  }
 ],
 "metadata": {
  "kernelspec": {
   "display_name": "Python 3 (ipykernel)",
   "language": "python",
   "name": "python3"
  },
  "language_info": {
   "codemirror_mode": {
    "name": "ipython",
    "version": 3
   },
   "file_extension": ".py",
   "mimetype": "text/x-python",
   "name": "python",
   "nbconvert_exporter": "python",
   "pygments_lexer": "ipython3",
   "version": "3.9.7"
  }
 },
 "nbformat": 4,
 "nbformat_minor": 5
}
